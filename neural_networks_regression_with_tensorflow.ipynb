{
  "nbformat": 4,
  "nbformat_minor": 0,
  "metadata": {
    "colab": {
      "provenance": []
    },
    "kernelspec": {
      "name": "python3",
      "display_name": "Python 3"
    },
    "language_info": {
      "name": "python"
    }
  },
  "cells": [
    {
      "cell_type": "code",
      "source": [
        "import tensorflow as tf\n",
        "print(tf.__version__) # check the version (should be 2.x+)"
      ],
      "metadata": {
        "colab": {
          "base_uri": "https://localhost:8080/"
        },
        "id": "6v7dMA4heXeB",
        "outputId": "262d266e-f509-4dea-9504-c8fc8e848eef"
      },
      "execution_count": null,
      "outputs": [
        {
          "output_type": "stream",
          "name": "stdout",
          "text": [
            "2.12.0\n"
          ]
        }
      ]
    },
    {
      "cell_type": "code",
      "source": [
        "import numpy as np\n",
        "import matplotlib.pyplot as plt\n",
        "\n",
        "# Create features\n",
        "X = np.array([-7.0, -4.0, -1.0, 2.0, 5.0, 8.0, 11.0, 14.0])\n",
        "\n",
        "# Create labels\n",
        "y = np.array([3.0, 6.0, 9.0, 12.0, 15.0, 18.0, 21.0, 24.0])\n",
        "\n",
        "# Visualize it\n",
        "plt.scatter(X, y);"
      ],
      "metadata": {
        "colab": {
          "base_uri": "https://localhost:8080/",
          "height": 435
        },
        "id": "f-IFY5noedQJ",
        "outputId": "2b1fa0ff-e8a6-4159-b02f-8eb80a5813d9"
      },
      "execution_count": null,
      "outputs": [
        {
          "output_type": "display_data",
          "data": {
            "text/plain": [
              "<Figure size 640x480 with 1 Axes>"
            ],
            "image/png": "[encoded data removed]"
          },
          "metadata": {}
        }
      ]
    },
    {
      "cell_type": "code",
      "source": [
        "# Example input and output shapes of a regresson model\n",
        "house_info = tf.constant([\"bedroom\", \"bathroom\", \"garage\"])\n",
        "house_price = tf.constant([939700])\n",
        "house_info, house_price"
      ],
      "metadata": {
        "colab": {
          "base_uri": "https://localhost:8080/"
        },
        "id": "9hM8q0zGehbY",
        "outputId": "e4f68597-8c9b-43bd-ab54-885e199b2cfe"
      },
      "execution_count": null,
      "outputs": [
        {
          "output_type": "execute_result",
          "data": {
            "text/plain": [
              "(<tf.Tensor: shape=(3,), dtype=string, numpy=array([b'bedroom', b'bathroom', b'garage'], dtype=object)>,\n",
              " <tf.Tensor: shape=(1,), dtype=int32, numpy=array([939700], dtype=int32)>)"
            ]
          },
          "metadata": {},
          "execution_count": 3
        }
      ]
    },
    {
      "cell_type": "code",
      "source": [
        "house_info.shape"
      ],
      "metadata": {
        "colab": {
          "base_uri": "https://localhost:8080/"
        },
        "id": "u_is85kEekaP",
        "outputId": "5db33a72-f033-4a5e-adce-a411feafbe29"
      },
      "execution_count": null,
      "outputs": [
        {
          "output_type": "execute_result",
          "data": {
            "text/plain": [
              "TensorShape([3])"
            ]
          },
          "metadata": {},
          "execution_count": 4
        }
      ]
    },
    {
      "cell_type": "code",
      "source": [
        "input_shape = X.shape\n",
        "output_shape = y.shape\n",
        "input_shape, output_shape"
      ],
      "metadata": {
        "colab": {
          "base_uri": "https://localhost:8080/"
        },
        "id": "qHHytwyizUnL",
        "outputId": "d95286d4-2634-4134-c101-9463b5189a65"
      },
      "execution_count": null,
      "outputs": [
        {
          "output_type": "execute_result",
          "data": {
            "text/plain": [
              "((8,), (8,))"
            ]
          },
          "metadata": {},
          "execution_count": 5
        }
      ]
    },
    {
      "cell_type": "code",
      "source": [
        "X[0], y[0]"
      ],
      "metadata": {
        "colab": {
          "base_uri": "https://localhost:8080/"
        },
        "id": "t938_xd6zgu6",
        "outputId": "49cdeb54-8a96-4ad0-91db-a53f9de36479"
      },
      "execution_count": null,
      "outputs": [
        {
          "output_type": "execute_result",
          "data": {
            "text/plain": [
              "(-7.0, 3.0)"
            ]
          },
          "metadata": {},
          "execution_count": 6
        }
      ]
    },
    {
      "cell_type": "code",
      "source": [
        "X[1], y[1]"
      ],
      "metadata": {
        "colab": {
          "base_uri": "https://localhost:8080/"
        },
        "id": "LiFdHD7GzjiE",
        "outputId": "8c860173-6a49-4d61-c98f-bbc63da54273"
      },
      "execution_count": null,
      "outputs": [
        {
          "output_type": "execute_result",
          "data": {
            "text/plain": [
              "(-4.0, 6.0)"
            ]
          },
          "metadata": {},
          "execution_count": 7
        }
      ]
    },
    {
      "cell_type": "code",
      "source": [
        "X[0].ndim"
      ],
      "metadata": {
        "colab": {
          "base_uri": "https://localhost:8080/"
        },
        "id": "NSPJTKOkznCR",
        "outputId": "fe541a55-29ff-4afa-da3b-36d96a51fb4f"
      },
      "execution_count": null,
      "outputs": [
        {
          "output_type": "execute_result",
          "data": {
            "text/plain": [
              "0"
            ]
          },
          "metadata": {},
          "execution_count": 8
        }
      ]
    },
    {
      "cell_type": "code",
      "source": [
        "X = tf.constant(X)\n",
        "y = tf.constant(y)\n",
        "X,y"
      ],
      "metadata": {
        "colab": {
          "base_uri": "https://localhost:8080/"
        },
        "id": "v171Vc3nzzcP",
        "outputId": "17a93339-5a21-4140-b91a-5ce543d8d218"
      },
      "execution_count": null,
      "outputs": [
        {
          "output_type": "execute_result",
          "data": {
            "text/plain": [
              "(<tf.Tensor: shape=(8,), dtype=float64, numpy=array([-7., -4., -1.,  2.,  5.,  8., 11., 14.])>,\n",
              " <tf.Tensor: shape=(8,), dtype=float64, numpy=array([ 3.,  6.,  9., 12., 15., 18., 21., 24.])>)"
            ]
          },
          "metadata": {},
          "execution_count": 9
        }
      ]
    },
    {
      "cell_type": "code",
      "source": [
        "input_shape = X[0].shape\n",
        "output_shape = y[0].shape"
      ],
      "metadata": {
        "id": "6GG23kokz_OX"
      },
      "execution_count": null,
      "outputs": []
    },
    {
      "cell_type": "code",
      "source": [
        "input_shape, output_shape"
      ],
      "metadata": {
        "colab": {
          "base_uri": "https://localhost:8080/"
        },
        "id": "IAHL-I5b0Jch",
        "outputId": "1c2ded52-0ab3-4e06-c520-fb993cf63a64"
      },
      "execution_count": null,
      "outputs": [
        {
          "output_type": "execute_result",
          "data": {
            "text/plain": [
              "(TensorShape([]), TensorShape([]))"
            ]
          },
          "metadata": {},
          "execution_count": 11
        }
      ]
    },
    {
      "cell_type": "code",
      "source": [
        "plt.scatter(X,y)"
      ],
      "metadata": {
        "colab": {
          "base_uri": "https://localhost:8080/",
          "height": 452
        },
        "id": "ALjj57ds0J5P",
        "outputId": "edc5425e-5ec0-4301-c60b-850e61f2f94a"
      },
      "execution_count": null,
      "outputs": [
        {
          "output_type": "execute_result",
          "data": {
            "text/plain": [
              "<matplotlib.collections.PathCollection at 0x7f96c8323c40>"
            ]
          },
          "metadata": {},
          "execution_count": 12
        },
        {
          "output_type": "display_data",
          "data": {
            "text/plain": [
              "<Figure size 640x480 with 1 Axes>"
            ],
            "image/png": "[encoded data removed]"
          },
          "metadata": {}
        }
      ]
    },
    {
      "cell_type": "code",
      "source": [
        "#Set Random Seeds\n",
        "\n",
        "tf.random.set_seed(42)\n",
        "\n",
        "#Model\n",
        "\n",
        "model = tf.keras.Sequential([\n",
        "    tf.keras.layers.Dense(1)\n",
        "])\n",
        "\n",
        "#Compile\n",
        "\n",
        "model.compile(loss=tf.keras.losses.mae,\n",
        "              optimizer=tf.keras.optimizers.SGD(),\n",
        "              metrics=[\"mae\"])\n",
        "\n",
        "model.fit(tf.expand_dims(X, axis=-1), y, epochs=5)\n"
      ],
      "metadata": {
        "colab": {
          "base_uri": "https://localhost:8080/"
        },
        "id": "Lw_6jqMT0RGN",
        "outputId": "56fe75a1-ae05-4a9b-d834-496ee0fc0304"
      },
      "execution_count": null,
      "outputs": [
        {
          "output_type": "stream",
          "name": "stdout",
          "text": [
            "Epoch 1/5\n",
            "1/1 [==============================] - 1s 552ms/step - loss: 21.9167 - mae: 21.9167\n",
            "Epoch 2/5\n",
            "1/1 [==============================] - 0s 13ms/step - loss: 21.5235 - mae: 21.5235\n",
            "Epoch 3/5\n",
            "1/1 [==============================] - 0s 12ms/step - loss: 21.1304 - mae: 21.1304\n",
            "Epoch 4/5\n",
            "1/1 [==============================] - 0s 11ms/step - loss: 20.7373 - mae: 20.7373\n",
            "Epoch 5/5\n",
            "1/1 [==============================] - 0s 11ms/step - loss: 20.3825 - mae: 20.3825\n"
          ]
        },
        {
          "output_type": "execute_result",
          "data": {
            "text/plain": [
              "<keras.callbacks.History at 0x7f96c87d2fe0>"
            ]
          },
          "metadata": {},
          "execution_count": 17
        }
      ]
    },
    {
      "cell_type": "code",
      "source": [
        "X = tf.cast(tf.constant(X), dtype=tf.float32)\n",
        "y = tf.cast(tf.constant(y), dtype=tf.float32)\n",
        "X,y"
      ],
      "metadata": {
        "colab": {
          "base_uri": "https://localhost:8080/"
        },
        "id": "lEwRYYqj_j91",
        "outputId": "5740207a-8b41-420c-a804-ac8e0c92b692"
      },
      "execution_count": null,
      "outputs": [
        {
          "output_type": "execute_result",
          "data": {
            "text/plain": [
              "(<tf.Tensor: shape=(8,), dtype=float32, numpy=array([-7., -4., -1.,  2.,  5.,  8., 11., 14.], dtype=float32)>,\n",
              " <tf.Tensor: shape=(8,), dtype=float32, numpy=array([ 3.,  6.,  9., 12., 15., 18., 21., 24.], dtype=float32)>)"
            ]
          },
          "metadata": {},
          "execution_count": 18
        }
      ]
    },
    {
      "cell_type": "code",
      "source": [
        "#Predict\n",
        "\n",
        "y_pread = model.predict([17.0])\n",
        "y_pread"
      ],
      "metadata": {
        "colab": {
          "base_uri": "https://localhost:8080/"
        },
        "id": "rj_Nl-sJBulm",
        "outputId": "8273590a-7b74-4ecb-d3aa-e7ad62deacf4"
      },
      "execution_count": null,
      "outputs": [
        {
          "output_type": "stream",
          "name": "stdout",
          "text": [
            "1/1 [==============================] - 0s 164ms/step\n"
          ]
        },
        {
          "output_type": "execute_result",
          "data": {
            "text/plain": [
              "array([[-23.843288]], dtype=float32)"
            ]
          },
          "metadata": {},
          "execution_count": 20
        }
      ]
    },
    {
      "cell_type": "code",
      "source": [
        "y_pread + 11"
      ],
      "metadata": {
        "colab": {
          "base_uri": "https://localhost:8080/"
        },
        "id": "gA6GLzbzB5NP",
        "outputId": "2d8fb407-6f6e-45a5-863f-3ea042a12116"
      },
      "execution_count": null,
      "outputs": [
        {
          "output_type": "execute_result",
          "data": {
            "text/plain": [
              "array([[-12.843288]], dtype=float32)"
            ]
          },
          "metadata": {},
          "execution_count": 21
        }
      ]
    },
    {
      "cell_type": "code",
      "source": [
        "#Set Random Seeds\n",
        "\n",
        "tf.random.set_seed(42)\n",
        "\n",
        "#Model\n",
        "\n",
        "model = tf.keras.Sequential([\n",
        "    tf.keras.layers.Dense(1)\n",
        "])\n",
        "\n",
        "#Compile\n",
        "\n",
        "model.compile(loss=tf.keras.losses.mae,\n",
        "              optimizer=tf.keras.optimizers.SGD(),\n",
        "              metrics=[\"mae\"])\n",
        "\n",
        "model.fit(tf.expand_dims(X, axis=-1), y, epochs=100)\n"
      ],
      "metadata": {
        "colab": {
          "base_uri": "https://localhost:8080/"
        },
        "id": "O1MIHJyYCCEk",
        "outputId": "a24daf1d-9b0c-4a3a-ccb2-8650c381283a"
      },
      "execution_count": null,
      "outputs": [
        {
          "output_type": "stream",
          "name": "stdout",
          "text": [
            "Epoch 1/100\n",
            "1/1 [==============================] - 2s 2s/step - loss: 12.2632 - mae: 12.2632\n",
            "Epoch 2/100\n",
            "1/1 [==============================] - 0s 12ms/step - loss: 12.1307 - mae: 12.1307\n",
            "Epoch 3/100\n",
            "1/1 [==============================] - 0s 30ms/step - loss: 11.9982 - mae: 11.9982\n",
            "Epoch 4/100\n",
            "1/1 [==============================] - 0s 28ms/step - loss: 11.8657 - mae: 11.8657\n",
            "Epoch 5/100\n",
            "1/1 [==============================] - 0s 25ms/step - loss: 11.7332 - mae: 11.7332\n",
            "Epoch 6/100\n",
            "1/1 [==============================] - 0s 37ms/step - loss: 11.6007 - mae: 11.6007\n",
            "Epoch 7/100\n",
            "1/1 [==============================] - 0s 19ms/step - loss: 11.4682 - mae: 11.4682\n",
            "Epoch 8/100\n",
            "1/1 [==============================] - 0s 24ms/step - loss: 11.3357 - mae: 11.3357\n",
            "Epoch 9/100\n",
            "1/1 [==============================] - 0s 25ms/step - loss: 11.2032 - mae: 11.2032\n",
            "Epoch 10/100\n",
            "1/1 [==============================] - 0s 24ms/step - loss: 11.0707 - mae: 11.0707\n",
            "Epoch 11/100\n",
            "1/1 [==============================] - 0s 35ms/step - loss: 10.9382 - mae: 10.9382\n",
            "Epoch 12/100\n",
            "1/1 [==============================] - 0s 17ms/step - loss: 10.8057 - mae: 10.8057\n",
            "Epoch 13/100\n",
            "1/1 [==============================] - 0s 20ms/step - loss: 10.6732 - mae: 10.6732\n",
            "Epoch 14/100\n",
            "1/1 [==============================] - 0s 27ms/step - loss: 10.5407 - mae: 10.5407\n",
            "Epoch 15/100\n",
            "1/1 [==============================] - 0s 21ms/step - loss: 10.4082 - mae: 10.4082\n",
            "Epoch 16/100\n",
            "1/1 [==============================] - 0s 13ms/step - loss: 10.2757 - mae: 10.2757\n",
            "Epoch 17/100\n",
            "1/1 [==============================] - 0s 20ms/step - loss: 10.1432 - mae: 10.1432\n",
            "Epoch 18/100\n",
            "1/1 [==============================] - 0s 28ms/step - loss: 10.0107 - mae: 10.0107\n",
            "Epoch 19/100\n",
            "1/1 [==============================] - 0s 23ms/step - loss: 9.8782 - mae: 9.8782\n",
            "Epoch 20/100\n",
            "1/1 [==============================] - 0s 17ms/step - loss: 9.7457 - mae: 9.7457\n",
            "Epoch 21/100\n",
            "1/1 [==============================] - 0s 17ms/step - loss: 9.6132 - mae: 9.6132\n",
            "Epoch 22/100\n",
            "1/1 [==============================] - 0s 18ms/step - loss: 9.4807 - mae: 9.4807\n",
            "Epoch 23/100\n",
            "1/1 [==============================] - 0s 20ms/step - loss: 9.3482 - mae: 9.3482\n",
            "Epoch 24/100\n",
            "1/1 [==============================] - 0s 18ms/step - loss: 9.2157 - mae: 9.2157\n",
            "Epoch 25/100\n",
            "1/1 [==============================] - 0s 17ms/step - loss: 9.0832 - mae: 9.0832\n",
            "Epoch 26/100\n",
            "1/1 [==============================] - 0s 15ms/step - loss: 8.9507 - mae: 8.9507\n",
            "Epoch 27/100\n",
            "1/1 [==============================] - 0s 11ms/step - loss: 8.8182 - mae: 8.8182\n",
            "Epoch 28/100\n",
            "1/1 [==============================] - 0s 12ms/step - loss: 8.6857 - mae: 8.6857\n",
            "Epoch 29/100\n",
            "1/1 [==============================] - 0s 15ms/step - loss: 8.5532 - mae: 8.5532\n",
            "Epoch 30/100\n",
            "1/1 [==============================] - 0s 12ms/step - loss: 8.4207 - mae: 8.4207\n",
            "Epoch 31/100\n",
            "1/1 [==============================] - 0s 11ms/step - loss: 8.2882 - mae: 8.2882\n",
            "Epoch 32/100\n",
            "1/1 [==============================] - 0s 14ms/step - loss: 8.1557 - mae: 8.1557\n",
            "Epoch 33/100\n",
            "1/1 [==============================] - 0s 20ms/step - loss: 8.0232 - mae: 8.0232\n",
            "Epoch 34/100\n",
            "1/1 [==============================] - 0s 28ms/step - loss: 7.8907 - mae: 7.8907\n",
            "Epoch 35/100\n",
            "1/1 [==============================] - 0s 16ms/step - loss: 7.7582 - mae: 7.7582\n",
            "Epoch 36/100\n",
            "1/1 [==============================] - 0s 24ms/step - loss: 7.6257 - mae: 7.6257\n",
            "Epoch 37/100\n",
            "1/1 [==============================] - 0s 15ms/step - loss: 7.4932 - mae: 7.4932\n",
            "Epoch 38/100\n",
            "1/1 [==============================] - 0s 18ms/step - loss: 7.3607 - mae: 7.3607\n",
            "Epoch 39/100\n",
            "1/1 [==============================] - 0s 21ms/step - loss: 7.2282 - mae: 7.2282\n",
            "Epoch 40/100\n",
            "1/1 [==============================] - 0s 23ms/step - loss: 7.2075 - mae: 7.2075\n",
            "Epoch 41/100\n",
            "1/1 [==============================] - 0s 18ms/step - loss: 7.2019 - mae: 7.2019\n",
            "Epoch 42/100\n",
            "1/1 [==============================] - 0s 15ms/step - loss: 7.1963 - mae: 7.1963\n",
            "Epoch 43/100\n",
            "1/1 [==============================] - 0s 17ms/step - loss: 7.1906 - mae: 7.1906\n",
            "Epoch 44/100\n",
            "1/1 [==============================] - 0s 30ms/step - loss: 7.1850 - mae: 7.1850\n",
            "Epoch 45/100\n",
            "1/1 [==============================] - 0s 17ms/step - loss: 7.1794 - mae: 7.1794\n",
            "Epoch 46/100\n",
            "1/1 [==============================] - 0s 21ms/step - loss: 7.1737 - mae: 7.1737\n",
            "Epoch 47/100\n",
            "1/1 [==============================] - 0s 16ms/step - loss: 7.1681 - mae: 7.1681\n",
            "Epoch 48/100\n",
            "1/1 [==============================] - 0s 27ms/step - loss: 7.1625 - mae: 7.1625\n",
            "Epoch 49/100\n",
            "1/1 [==============================] - 0s 16ms/step - loss: 7.1569 - mae: 7.1569\n",
            "Epoch 50/100\n",
            "1/1 [==============================] - 0s 20ms/step - loss: 7.1512 - mae: 7.1512\n",
            "Epoch 51/100\n",
            "1/1 [==============================] - 0s 16ms/step - loss: 7.1456 - mae: 7.1456\n",
            "Epoch 52/100\n",
            "1/1 [==============================] - 0s 14ms/step - loss: 7.1400 - mae: 7.1400\n",
            "Epoch 53/100\n",
            "1/1 [==============================] - 0s 18ms/step - loss: 7.1344 - mae: 7.1344\n",
            "Epoch 54/100\n",
            "1/1 [==============================] - 0s 13ms/step - loss: 7.1288 - mae: 7.1288\n",
            "Epoch 55/100\n",
            "1/1 [==============================] - 0s 13ms/step - loss: 7.1231 - mae: 7.1231\n",
            "Epoch 56/100\n",
            "1/1 [==============================] - 0s 16ms/step - loss: 7.1175 - mae: 7.1175\n",
            "Epoch 57/100\n",
            "1/1 [==============================] - 0s 22ms/step - loss: 7.1119 - mae: 7.1119\n",
            "Epoch 58/100\n",
            "1/1 [==============================] - 0s 19ms/step - loss: 7.1062 - mae: 7.1062\n",
            "Epoch 59/100\n",
            "1/1 [==============================] - 0s 15ms/step - loss: 7.1006 - mae: 7.1006\n",
            "Epoch 60/100\n",
            "1/1 [==============================] - 0s 15ms/step - loss: 7.0950 - mae: 7.0950\n",
            "Epoch 61/100\n",
            "1/1 [==============================] - 0s 16ms/step - loss: 7.0894 - mae: 7.0894\n",
            "Epoch 62/100\n",
            "1/1 [==============================] - 0s 16ms/step - loss: 7.0838 - mae: 7.0838\n",
            "Epoch 63/100\n",
            "1/1 [==============================] - 0s 18ms/step - loss: 7.0781 - mae: 7.0781\n",
            "Epoch 64/100\n",
            "1/1 [==============================] - 0s 14ms/step - loss: 7.0725 - mae: 7.0725\n",
            "Epoch 65/100\n",
            "1/1 [==============================] - 0s 14ms/step - loss: 7.0669 - mae: 7.0669\n",
            "Epoch 66/100\n",
            "1/1 [==============================] - 0s 13ms/step - loss: 7.0612 - mae: 7.0612\n",
            "Epoch 67/100\n",
            "1/1 [==============================] - 0s 12ms/step - loss: 7.0556 - mae: 7.0556\n",
            "Epoch 68/100\n",
            "1/1 [==============================] - 0s 13ms/step - loss: 7.0500 - mae: 7.0500\n",
            "Epoch 69/100\n",
            "1/1 [==============================] - 0s 12ms/step - loss: 7.0444 - mae: 7.0444\n",
            "Epoch 70/100\n",
            "1/1 [==============================] - 0s 11ms/step - loss: 7.0388 - mae: 7.0388\n",
            "Epoch 71/100\n",
            "1/1 [==============================] - 0s 10ms/step - loss: 7.0331 - mae: 7.0331\n",
            "Epoch 72/100\n",
            "1/1 [==============================] - 0s 10ms/step - loss: 7.0275 - mae: 7.0275\n",
            "Epoch 73/100\n",
            "1/1 [==============================] - 0s 12ms/step - loss: 7.0219 - mae: 7.0219\n",
            "Epoch 74/100\n",
            "1/1 [==============================] - 0s 11ms/step - loss: 7.0163 - mae: 7.0163\n",
            "Epoch 75/100\n",
            "1/1 [==============================] - 0s 11ms/step - loss: 7.0106 - mae: 7.0106\n",
            "Epoch 76/100\n",
            "1/1 [==============================] - 0s 11ms/step - loss: 7.0050 - mae: 7.0050\n",
            "Epoch 77/100\n",
            "1/1 [==============================] - 0s 12ms/step - loss: 6.9994 - mae: 6.9994\n",
            "Epoch 78/100\n",
            "1/1 [==============================] - 0s 12ms/step - loss: 6.9938 - mae: 6.9938\n",
            "Epoch 79/100\n",
            "1/1 [==============================] - 0s 11ms/step - loss: 6.9881 - mae: 6.9881\n",
            "Epoch 80/100\n",
            "1/1 [==============================] - 0s 12ms/step - loss: 6.9825 - mae: 6.9825\n",
            "Epoch 81/100\n",
            "1/1 [==============================] - 0s 15ms/step - loss: 6.9769 - mae: 6.9769\n",
            "Epoch 82/100\n",
            "1/1 [==============================] - 0s 12ms/step - loss: 6.9713 - mae: 6.9713\n",
            "Epoch 83/100\n",
            "1/1 [==============================] - 0s 12ms/step - loss: 6.9656 - mae: 6.9656\n",
            "Epoch 84/100\n",
            "1/1 [==============================] - 0s 11ms/step - loss: 6.9600 - mae: 6.9600\n",
            "Epoch 85/100\n",
            "1/1 [==============================] - 0s 11ms/step - loss: 6.9544 - mae: 6.9544\n",
            "Epoch 86/100\n",
            "1/1 [==============================] - 0s 12ms/step - loss: 6.9488 - mae: 6.9488\n",
            "Epoch 87/100\n",
            "1/1 [==============================] - 0s 12ms/step - loss: 6.9431 - mae: 6.9431\n",
            "Epoch 88/100\n",
            "1/1 [==============================] - 0s 10ms/step - loss: 6.9375 - mae: 6.9375\n",
            "Epoch 89/100\n",
            "1/1 [==============================] - 0s 10ms/step - loss: 6.9319 - mae: 6.9319\n",
            "Epoch 90/100\n",
            "1/1 [==============================] - 0s 10ms/step - loss: 6.9263 - mae: 6.9263\n",
            "Epoch 91/100\n",
            "1/1 [==============================] - 0s 11ms/step - loss: 6.9206 - mae: 6.9206\n",
            "Epoch 92/100\n",
            "1/1 [==============================] - 0s 10ms/step - loss: 6.9150 - mae: 6.9150\n",
            "Epoch 93/100\n",
            "1/1 [==============================] - 0s 10ms/step - loss: 6.9094 - mae: 6.9094\n",
            "Epoch 94/100\n",
            "1/1 [==============================] - 0s 10ms/step - loss: 6.9038 - mae: 6.9038\n",
            "Epoch 95/100\n",
            "1/1 [==============================] - 0s 10ms/step - loss: 6.8981 - mae: 6.8981\n",
            "Epoch 96/100\n",
            "1/1 [==============================] - 0s 12ms/step - loss: 6.8925 - mae: 6.8925\n",
            "Epoch 97/100\n",
            "1/1 [==============================] - 0s 10ms/step - loss: 6.8869 - mae: 6.8869\n",
            "Epoch 98/100\n",
            "1/1 [==============================] - 0s 10ms/step - loss: 6.8813 - mae: 6.8813\n",
            "Epoch 99/100\n",
            "1/1 [==============================] - 0s 9ms/step - loss: 6.8756 - mae: 6.8756\n",
            "Epoch 100/100\n",
            "1/1 [==============================] - 0s 12ms/step - loss: 6.8700 - mae: 6.8700\n"
          ]
        },
        {
          "output_type": "execute_result",
          "data": {
            "text/plain": [
              "<keras.callbacks.History at 0x7f96c61e2620>"
            ]
          },
          "metadata": {},
          "execution_count": 22
        }
      ]
    },
    {
      "cell_type": "code",
      "source": [
        "model.predict([17.0])"
      ],
      "metadata": {
        "colab": {
          "base_uri": "https://localhost:8080/"
        },
        "id": "ihnesCtjCMp2",
        "outputId": "379d0301-9427-4143-e245-c649c0bf90c4"
      },
      "execution_count": null,
      "outputs": [
        {
          "output_type": "stream",
          "name": "stdout",
          "text": [
            "1/1 [==============================] - 0s 121ms/step\n"
          ]
        },
        {
          "output_type": "execute_result",
          "data": {
            "text/plain": [
              "array([[30.059809]], dtype=float32)"
            ]
          },
          "metadata": {},
          "execution_count": 24
        }
      ]
    },
    {
      "cell_type": "code",
      "source": [
        "#Set Random Seeds\n",
        "\n",
        "tf.random.set_seed(42)\n",
        "\n",
        "#Model\n",
        "\n",
        "model = tf.keras.Sequential([\n",
        "    tf.keras.layers.Dense(100, activation =\"relu\"),\n",
        "    tf.keras.layers.Dense(1)\n",
        "])\n",
        "\n",
        "#Compile\n",
        "\n",
        "model.compile(loss=tf.keras.losses.mae,\n",
        "              optimizer=tf.keras.optimizers.SGD(),\n",
        "              metrics=[\"mae\"])\n",
        "\n",
        "model.fit(tf.expand_dims(X, axis=-1), y, epochs=100)\n"
      ],
      "metadata": {
        "colab": {
          "base_uri": "https://localhost:8080/"
        },
        "id": "lG1qThKICTgE",
        "outputId": "f7b8ac2c-4ce2-4953-f30b-372bf8b3d5a5"
      },
      "execution_count": null,
      "outputs": [
        {
          "output_type": "stream",
          "name": "stdout",
          "text": [
            "Epoch 1/100\n",
            "1/1 [==============================] - 0s 464ms/step - loss: 14.6401 - mae: 14.6401\n",
            "Epoch 2/100\n",
            "1/1 [==============================] - 0s 11ms/step - loss: 14.0814 - mae: 14.0814\n",
            "Epoch 3/100\n",
            "1/1 [==============================] - 0s 15ms/step - loss: 13.5321 - mae: 13.5321\n",
            "Epoch 4/100\n",
            "1/1 [==============================] - 0s 15ms/step - loss: 12.9872 - mae: 12.9872\n",
            "Epoch 5/100\n",
            "1/1 [==============================] - 0s 13ms/step - loss: 12.4425 - mae: 12.4425\n",
            "Epoch 6/100\n",
            "1/1 [==============================] - 0s 10ms/step - loss: 11.8940 - mae: 11.8940\n",
            "Epoch 7/100\n",
            "1/1 [==============================] - 0s 11ms/step - loss: 11.3351 - mae: 11.3351\n",
            "Epoch 8/100\n",
            "1/1 [==============================] - 0s 10ms/step - loss: 10.7792 - mae: 10.7792\n",
            "Epoch 9/100\n",
            "1/1 [==============================] - 0s 11ms/step - loss: 10.2084 - mae: 10.2084\n",
            "Epoch 10/100\n",
            "1/1 [==============================] - 0s 10ms/step - loss: 9.6091 - mae: 9.6091\n",
            "Epoch 11/100\n",
            "1/1 [==============================] - 0s 10ms/step - loss: 8.9798 - mae: 8.9798\n",
            "Epoch 12/100\n",
            "1/1 [==============================] - 0s 11ms/step - loss: 8.3260 - mae: 8.3260\n",
            "Epoch 13/100\n",
            "1/1 [==============================] - 0s 11ms/step - loss: 7.6311 - mae: 7.6311\n",
            "Epoch 14/100\n",
            "1/1 [==============================] - 0s 14ms/step - loss: 6.8857 - mae: 6.8857\n",
            "Epoch 15/100\n",
            "1/1 [==============================] - 0s 10ms/step - loss: 6.0845 - mae: 6.0845\n",
            "Epoch 16/100\n",
            "1/1 [==============================] - 0s 12ms/step - loss: 5.2228 - mae: 5.2228\n",
            "Epoch 17/100\n",
            "1/1 [==============================] - 0s 11ms/step - loss: 4.2900 - mae: 4.2900\n",
            "Epoch 18/100\n",
            "1/1 [==============================] - 0s 11ms/step - loss: 3.9133 - mae: 3.9133\n",
            "Epoch 19/100\n",
            "1/1 [==============================] - 0s 11ms/step - loss: 3.9415 - mae: 3.9415\n",
            "Epoch 20/100\n",
            "1/1 [==============================] - 0s 11ms/step - loss: 3.8881 - mae: 3.8881\n",
            "Epoch 21/100\n",
            "1/1 [==============================] - 0s 11ms/step - loss: 3.9486 - mae: 3.9486\n",
            "Epoch 22/100\n",
            "1/1 [==============================] - 0s 11ms/step - loss: 3.8819 - mae: 3.8819\n",
            "Epoch 23/100\n",
            "1/1 [==============================] - 0s 10ms/step - loss: 3.9395 - mae: 3.9395\n",
            "Epoch 24/100\n",
            "1/1 [==============================] - 0s 11ms/step - loss: 3.8963 - mae: 3.8963\n",
            "Epoch 25/100\n",
            "1/1 [==============================] - 0s 12ms/step - loss: 3.9174 - mae: 3.9174\n",
            "Epoch 26/100\n",
            "1/1 [==============================] - 0s 11ms/step - loss: 3.9034 - mae: 3.9034\n",
            "Epoch 27/100\n",
            "1/1 [==============================] - 0s 10ms/step - loss: 3.8921 - mae: 3.8921\n",
            "Epoch 28/100\n",
            "1/1 [==============================] - 0s 10ms/step - loss: 3.9105 - mae: 3.9105\n",
            "Epoch 29/100\n",
            "1/1 [==============================] - 0s 10ms/step - loss: 3.8667 - mae: 3.8667\n",
            "Epoch 30/100\n",
            "1/1 [==============================] - 0s 11ms/step - loss: 3.9179 - mae: 3.9179\n",
            "Epoch 31/100\n",
            "1/1 [==============================] - 0s 11ms/step - loss: 3.8531 - mae: 3.8531\n",
            "Epoch 32/100\n",
            "1/1 [==============================] - 0s 10ms/step - loss: 3.9206 - mae: 3.9206\n",
            "Epoch 33/100\n",
            "1/1 [==============================] - 0s 11ms/step - loss: 3.8662 - mae: 3.8662\n",
            "Epoch 34/100\n",
            "1/1 [==============================] - 0s 10ms/step - loss: 3.8952 - mae: 3.8952\n",
            "Epoch 35/100\n",
            "1/1 [==============================] - 0s 10ms/step - loss: 3.8734 - mae: 3.8734\n",
            "Epoch 36/100\n",
            "1/1 [==============================] - 0s 10ms/step - loss: 3.8697 - mae: 3.8697\n",
            "Epoch 37/100\n",
            "1/1 [==============================] - 0s 17ms/step - loss: 3.8808 - mae: 3.8808\n",
            "Epoch 38/100\n",
            "1/1 [==============================] - 0s 19ms/step - loss: 3.8440 - mae: 3.8440\n",
            "Epoch 39/100\n",
            "1/1 [==============================] - 0s 11ms/step - loss: 3.8884 - mae: 3.8884\n",
            "Epoch 40/100\n",
            "1/1 [==============================] - 0s 11ms/step - loss: 3.8288 - mae: 3.8288\n",
            "Epoch 41/100\n",
            "1/1 [==============================] - 0s 13ms/step - loss: 3.8974 - mae: 3.8974\n",
            "Epoch 42/100\n",
            "1/1 [==============================] - 0s 9ms/step - loss: 3.8372 - mae: 3.8372\n",
            "Epoch 43/100\n",
            "1/1 [==============================] - 0s 10ms/step - loss: 3.8718 - mae: 3.8718\n",
            "Epoch 44/100\n",
            "1/1 [==============================] - 0s 10ms/step - loss: 3.8447 - mae: 3.8447\n",
            "Epoch 45/100\n",
            "1/1 [==============================] - 0s 8ms/step - loss: 3.8460 - mae: 3.8460\n",
            "Epoch 46/100\n",
            "1/1 [==============================] - 0s 10ms/step - loss: 3.8523 - mae: 3.8523\n",
            "Epoch 47/100\n",
            "1/1 [==============================] - 0s 10ms/step - loss: 3.8201 - mae: 3.8201\n",
            "Epoch 48/100\n",
            "1/1 [==============================] - 0s 9ms/step - loss: 3.8636 - mae: 3.8636\n",
            "Epoch 49/100\n",
            "1/1 [==============================] - 0s 9ms/step - loss: 3.8018 - mae: 3.8018\n",
            "Epoch 50/100\n",
            "1/1 [==============================] - 0s 10ms/step - loss: 3.8730 - mae: 3.8730\n",
            "Epoch 51/100\n",
            "1/1 [==============================] - 0s 10ms/step - loss: 3.8094 - mae: 3.8094\n",
            "Epoch 52/100\n",
            "1/1 [==============================] - 0s 10ms/step - loss: 3.8471 - mae: 3.8471\n",
            "Epoch 53/100\n",
            "1/1 [==============================] - 0s 10ms/step - loss: 3.8170 - mae: 3.8170\n",
            "Epoch 54/100\n",
            "1/1 [==============================] - 0s 10ms/step - loss: 3.8210 - mae: 3.8210\n",
            "Epoch 55/100\n",
            "1/1 [==============================] - 0s 9ms/step - loss: 3.8249 - mae: 3.8249\n",
            "Epoch 56/100\n",
            "1/1 [==============================] - 0s 12ms/step - loss: 3.7962 - mae: 3.7962\n",
            "Epoch 57/100\n",
            "1/1 [==============================] - 0s 10ms/step - loss: 3.8401 - mae: 3.8401\n",
            "Epoch 58/100\n",
            "1/1 [==============================] - 0s 10ms/step - loss: 3.7751 - mae: 3.7751\n",
            "Epoch 59/100\n",
            "1/1 [==============================] - 0s 9ms/step - loss: 3.8481 - mae: 3.8481\n",
            "Epoch 60/100\n",
            "1/1 [==============================] - 0s 9ms/step - loss: 3.7826 - mae: 3.7826\n",
            "Epoch 61/100\n",
            "1/1 [==============================] - 0s 11ms/step - loss: 3.8211 - mae: 3.8211\n",
            "Epoch 62/100\n",
            "1/1 [==============================] - 0s 11ms/step - loss: 3.7905 - mae: 3.7905\n",
            "Epoch 63/100\n",
            "1/1 [==============================] - 0s 11ms/step - loss: 3.7948 - mae: 3.7948\n",
            "Epoch 64/100\n",
            "1/1 [==============================] - 0s 11ms/step - loss: 3.7985 - mae: 3.7985\n",
            "Epoch 65/100\n",
            "1/1 [==============================] - 0s 11ms/step - loss: 3.7739 - mae: 3.7739\n",
            "Epoch 66/100\n",
            "1/1 [==============================] - 0s 12ms/step - loss: 3.8139 - mae: 3.8139\n",
            "Epoch 67/100\n",
            "1/1 [==============================] - 0s 12ms/step - loss: 3.7490 - mae: 3.7490\n",
            "Epoch 68/100\n",
            "1/1 [==============================] - 0s 11ms/step - loss: 3.8203 - mae: 3.8203\n",
            "Epoch 69/100\n",
            "1/1 [==============================] - 0s 13ms/step - loss: 3.7569 - mae: 3.7569\n",
            "Epoch 70/100\n",
            "1/1 [==============================] - 0s 10ms/step - loss: 3.7939 - mae: 3.7939\n",
            "Epoch 71/100\n",
            "1/1 [==============================] - 0s 13ms/step - loss: 3.7650 - mae: 3.7650\n",
            "Epoch 72/100\n",
            "1/1 [==============================] - 0s 11ms/step - loss: 3.7672 - mae: 3.7672\n",
            "Epoch 73/100\n",
            "1/1 [==============================] - 0s 10ms/step - loss: 3.7757 - mae: 3.7757\n",
            "Epoch 74/100\n",
            "1/1 [==============================] - 0s 10ms/step - loss: 3.7470 - mae: 3.7470\n",
            "Epoch 75/100\n",
            "1/1 [==============================] - 0s 10ms/step - loss: 3.7888 - mae: 3.7888\n",
            "Epoch 76/100\n",
            "1/1 [==============================] - 0s 10ms/step - loss: 3.7241 - mae: 3.7241\n",
            "Epoch 77/100\n",
            "1/1 [==============================] - 0s 11ms/step - loss: 3.7921 - mae: 3.7921\n",
            "Epoch 78/100\n",
            "1/1 [==============================] - 0s 11ms/step - loss: 3.7323 - mae: 3.7323\n",
            "Epoch 79/100\n",
            "1/1 [==============================] - 0s 10ms/step - loss: 3.7653 - mae: 3.7653\n",
            "Epoch 80/100\n",
            "1/1 [==============================] - 0s 10ms/step - loss: 3.7406 - mae: 3.7406\n",
            "Epoch 81/100\n",
            "1/1 [==============================] - 0s 12ms/step - loss: 3.7383 - mae: 3.7383\n",
            "Epoch 82/100\n",
            "1/1 [==============================] - 0s 11ms/step - loss: 3.7554 - mae: 3.7554\n",
            "Epoch 83/100\n",
            "1/1 [==============================] - 0s 11ms/step - loss: 3.7178 - mae: 3.7178\n",
            "Epoch 84/100\n",
            "1/1 [==============================] - 0s 11ms/step - loss: 3.7647 - mae: 3.7647\n",
            "Epoch 85/100\n",
            "1/1 [==============================] - 0s 10ms/step - loss: 3.7003 - mae: 3.7003\n",
            "Epoch 86/100\n",
            "1/1 [==============================] - 0s 11ms/step - loss: 3.7625 - mae: 3.7625\n",
            "Epoch 87/100\n",
            "1/1 [==============================] - 0s 10ms/step - loss: 3.7086 - mae: 3.7086\n",
            "Epoch 88/100\n",
            "1/1 [==============================] - 0s 10ms/step - loss: 3.7354 - mae: 3.7354\n",
            "Epoch 89/100\n",
            "1/1 [==============================] - 0s 11ms/step - loss: 3.7171 - mae: 3.7171\n",
            "Epoch 90/100\n",
            "1/1 [==============================] - 0s 12ms/step - loss: 3.7119 - mae: 3.7119\n",
            "Epoch 91/100\n",
            "1/1 [==============================] - 0s 10ms/step - loss: 3.7330 - mae: 3.7330\n",
            "Epoch 92/100\n",
            "1/1 [==============================] - 0s 10ms/step - loss: 3.6872 - mae: 3.6872\n",
            "Epoch 93/100\n",
            "1/1 [==============================] - 0s 11ms/step - loss: 3.7416 - mae: 3.7416\n",
            "Epoch 94/100\n",
            "1/1 [==============================] - 0s 11ms/step - loss: 3.6774 - mae: 3.6774\n",
            "Epoch 95/100\n",
            "1/1 [==============================] - 0s 10ms/step - loss: 3.7316 - mae: 3.7316\n",
            "Epoch 96/100\n",
            "1/1 [==============================] - 0s 11ms/step - loss: 3.6860 - mae: 3.6860\n",
            "Epoch 97/100\n",
            "1/1 [==============================] - 0s 11ms/step - loss: 3.7042 - mae: 3.7042\n",
            "Epoch 98/100\n",
            "1/1 [==============================] - 0s 10ms/step - loss: 3.6951 - mae: 3.6951\n",
            "Epoch 99/100\n",
            "1/1 [==============================] - 0s 10ms/step - loss: 3.6831 - mae: 3.6831\n",
            "Epoch 100/100\n",
            "1/1 [==============================] - 0s 9ms/step - loss: 3.7107 - mae: 3.7107\n"
          ]
        },
        {
          "output_type": "execute_result",
          "data": {
            "text/plain": [
              "<keras.callbacks.History at 0x7f96c92cc3d0>"
            ]
          },
          "metadata": {},
          "execution_count": 26
        }
      ]
    },
    {
      "cell_type": "code",
      "source": [
        "model.predict([17.0])"
      ],
      "metadata": {
        "colab": {
          "base_uri": "https://localhost:8080/"
        },
        "id": "UI8aFX44Dbxm",
        "outputId": "09549d13-0b83-4e0a-eb5d-a9e5a2adef36"
      },
      "execution_count": null,
      "outputs": [
        {
          "output_type": "stream",
          "name": "stdout",
          "text": [
            "1/1 [==============================] - 0s 170ms/step\n"
          ]
        },
        {
          "output_type": "execute_result",
          "data": {
            "text/plain": [
              "array([[31.847445]], dtype=float32)"
            ]
          },
          "metadata": {},
          "execution_count": 27
        }
      ]
    },
    {
      "cell_type": "code",
      "source": [
        "#Set Random Seeds\n",
        "\n",
        "tf.random.set_seed(42)\n",
        "\n",
        "#Model\n",
        "\n",
        "model = tf.keras.Sequential([\n",
        "    tf.keras.layers.Dense(50, activation =None),\n",
        "    tf.keras.layers.Dense(1)\n",
        "])\n",
        "\n",
        "#Compile\n",
        "\n",
        "model.compile(loss=tf.keras.losses.mae,\n",
        "              optimizer=tf.keras.optimizers.Adam(lr=0.01),\n",
        "              metrics=[\"mae\"])\n",
        "\n",
        "model.fit(tf.expand_dims(X, axis=-1), y, epochs=100)\n"
      ],
      "metadata": {
        "colab": {
          "base_uri": "https://localhost:8080/"
        },
        "id": "XOHIjgQ9DjNo",
        "outputId": "2a307ea0-b82d-424d-ed57-a390c723731e"
      },
      "execution_count": null,
      "outputs": [
        {
          "output_type": "stream",
          "name": "stderr",
          "text": [
            "WARNING:absl:`lr` is deprecated in Keras optimizer, please use `learning_rate` or use the legacy optimizer, e.g.,tf.keras.optimizers.legacy.Adam.\n"
          ]
        },
        {
          "output_type": "stream",
          "name": "stdout",
          "text": [
            "Epoch 1/100\n",
            "1/1 [==============================] - 1s 1s/step - loss: 12.7079 - mae: 12.7079\n",
            "Epoch 2/100\n",
            "1/1 [==============================] - 0s 23ms/step - loss: 12.6361 - mae: 12.6361\n",
            "Epoch 3/100\n",
            "1/1 [==============================] - 0s 19ms/step - loss: 12.5642 - mae: 12.5642\n",
            "Epoch 4/100\n",
            "1/1 [==============================] - 0s 18ms/step - loss: 12.4922 - mae: 12.4922\n",
            "Epoch 5/100\n",
            "1/1 [==============================] - 0s 19ms/step - loss: 12.4201 - mae: 12.4201\n",
            "Epoch 6/100\n",
            "1/1 [==============================] - 0s 19ms/step - loss: 12.3479 - mae: 12.3479\n",
            "Epoch 7/100\n",
            "1/1 [==============================] - 0s 26ms/step - loss: 12.2755 - mae: 12.2755\n",
            "Epoch 8/100\n",
            "1/1 [==============================] - 0s 40ms/step - loss: 12.2031 - mae: 12.2031\n",
            "Epoch 9/100\n",
            "1/1 [==============================] - 0s 17ms/step - loss: 12.1305 - mae: 12.1305\n",
            "Epoch 10/100\n",
            "1/1 [==============================] - 0s 10ms/step - loss: 12.0577 - mae: 12.0577\n",
            "Epoch 11/100\n",
            "1/1 [==============================] - 0s 10ms/step - loss: 11.9849 - mae: 11.9849\n",
            "Epoch 12/100\n",
            "1/1 [==============================] - 0s 10ms/step - loss: 11.9119 - mae: 11.9119\n",
            "Epoch 13/100\n",
            "1/1 [==============================] - 0s 11ms/step - loss: 11.8388 - mae: 11.8388\n",
            "Epoch 14/100\n",
            "1/1 [==============================] - 0s 14ms/step - loss: 11.7655 - mae: 11.7655\n",
            "Epoch 15/100\n",
            "1/1 [==============================] - 0s 11ms/step - loss: 11.6921 - mae: 11.6921\n",
            "Epoch 16/100\n",
            "1/1 [==============================] - 0s 11ms/step - loss: 11.6185 - mae: 11.6185\n",
            "Epoch 17/100\n",
            "1/1 [==============================] - 0s 14ms/step - loss: 11.5447 - mae: 11.5447\n",
            "Epoch 18/100\n",
            "1/1 [==============================] - 0s 11ms/step - loss: 11.4708 - mae: 11.4708\n",
            "Epoch 19/100\n",
            "1/1 [==============================] - 0s 11ms/step - loss: 11.3967 - mae: 11.3967\n",
            "Epoch 20/100\n",
            "1/1 [==============================] - 0s 9ms/step - loss: 11.3224 - mae: 11.3224\n",
            "Epoch 21/100\n",
            "1/1 [==============================] - 0s 14ms/step - loss: 11.2479 - mae: 11.2479\n",
            "Epoch 22/100\n",
            "1/1 [==============================] - 0s 11ms/step - loss: 11.1732 - mae: 11.1732\n",
            "Epoch 23/100\n",
            "1/1 [==============================] - 0s 10ms/step - loss: 11.0983 - mae: 11.0983\n",
            "Epoch 24/100\n",
            "1/1 [==============================] - 0s 11ms/step - loss: 11.0232 - mae: 11.0232\n",
            "Epoch 25/100\n",
            "1/1 [==============================] - 0s 11ms/step - loss: 10.9479 - mae: 10.9479\n",
            "Epoch 26/100\n",
            "1/1 [==============================] - 0s 10ms/step - loss: 10.8723 - mae: 10.8723\n",
            "Epoch 27/100\n",
            "1/1 [==============================] - 0s 11ms/step - loss: 10.7965 - mae: 10.7965\n",
            "Epoch 28/100\n",
            "1/1 [==============================] - 0s 10ms/step - loss: 10.7204 - mae: 10.7204\n",
            "Epoch 29/100\n",
            "1/1 [==============================] - 0s 10ms/step - loss: 10.6440 - mae: 10.6440\n",
            "Epoch 30/100\n",
            "1/1 [==============================] - 0s 10ms/step - loss: 10.5674 - mae: 10.5674\n",
            "Epoch 31/100\n",
            "1/1 [==============================] - 0s 10ms/step - loss: 10.4905 - mae: 10.4905\n",
            "Epoch 32/100\n",
            "1/1 [==============================] - 0s 10ms/step - loss: 10.4134 - mae: 10.4134\n",
            "Epoch 33/100\n",
            "1/1 [==============================] - 0s 11ms/step - loss: 10.3359 - mae: 10.3359\n",
            "Epoch 34/100\n",
            "1/1 [==============================] - 0s 14ms/step - loss: 10.2581 - mae: 10.2581\n",
            "Epoch 35/100\n",
            "1/1 [==============================] - 0s 10ms/step - loss: 10.1800 - mae: 10.1800\n",
            "Epoch 36/100\n",
            "1/1 [==============================] - 0s 10ms/step - loss: 10.1016 - mae: 10.1016\n",
            "Epoch 37/100\n",
            "1/1 [==============================] - 0s 11ms/step - loss: 10.0229 - mae: 10.0229\n",
            "Epoch 38/100\n",
            "1/1 [==============================] - 0s 11ms/step - loss: 9.9438 - mae: 9.9438\n",
            "Epoch 39/100\n",
            "1/1 [==============================] - 0s 11ms/step - loss: 9.8644 - mae: 9.8644\n",
            "Epoch 40/100\n",
            "1/1 [==============================] - 0s 11ms/step - loss: 9.7846 - mae: 9.7846\n",
            "Epoch 41/100\n",
            "1/1 [==============================] - 0s 10ms/step - loss: 9.7045 - mae: 9.7045\n",
            "Epoch 42/100\n",
            "1/1 [==============================] - 0s 11ms/step - loss: 9.6240 - mae: 9.6240\n",
            "Epoch 43/100\n",
            "1/1 [==============================] - 0s 11ms/step - loss: 9.5432 - mae: 9.5432\n",
            "Epoch 44/100\n",
            "1/1 [==============================] - 0s 11ms/step - loss: 9.4619 - mae: 9.4619\n",
            "Epoch 45/100\n",
            "1/1 [==============================] - 0s 11ms/step - loss: 9.3803 - mae: 9.3803\n",
            "Epoch 46/100\n",
            "1/1 [==============================] - 0s 11ms/step - loss: 9.2983 - mae: 9.2983\n",
            "Epoch 47/100\n",
            "1/1 [==============================] - 0s 10ms/step - loss: 9.2159 - mae: 9.2159\n",
            "Epoch 48/100\n",
            "1/1 [==============================] - 0s 11ms/step - loss: 9.1331 - mae: 9.1331\n",
            "Epoch 49/100\n",
            "1/1 [==============================] - 0s 11ms/step - loss: 9.0499 - mae: 9.0499\n",
            "Epoch 50/100\n",
            "1/1 [==============================] - 0s 16ms/step - loss: 8.9662 - mae: 8.9662\n",
            "Epoch 51/100\n",
            "1/1 [==============================] - 0s 10ms/step - loss: 8.8821 - mae: 8.8821\n",
            "Epoch 52/100\n",
            "1/1 [==============================] - 0s 11ms/step - loss: 8.7976 - mae: 8.7976\n",
            "Epoch 53/100\n",
            "1/1 [==============================] - 0s 11ms/step - loss: 8.7126 - mae: 8.7126\n",
            "Epoch 54/100\n",
            "1/1 [==============================] - 0s 11ms/step - loss: 8.6272 - mae: 8.6272\n",
            "Epoch 55/100\n",
            "1/1 [==============================] - 0s 11ms/step - loss: 8.5414 - mae: 8.5414\n",
            "Epoch 56/100\n",
            "1/1 [==============================] - 0s 10ms/step - loss: 8.4551 - mae: 8.4551\n",
            "Epoch 57/100\n",
            "1/1 [==============================] - 0s 11ms/step - loss: 8.3683 - mae: 8.3683\n",
            "Epoch 58/100\n",
            "1/1 [==============================] - 0s 11ms/step - loss: 8.2810 - mae: 8.2810\n",
            "Epoch 59/100\n",
            "1/1 [==============================] - 0s 10ms/step - loss: 8.1933 - mae: 8.1933\n",
            "Epoch 60/100\n",
            "1/1 [==============================] - 0s 10ms/step - loss: 8.1050 - mae: 8.1050\n",
            "Epoch 61/100\n",
            "1/1 [==============================] - 0s 11ms/step - loss: 8.0163 - mae: 8.0163\n",
            "Epoch 62/100\n",
            "1/1 [==============================] - 0s 12ms/step - loss: 7.9271 - mae: 7.9271\n",
            "Epoch 63/100\n",
            "1/1 [==============================] - 0s 11ms/step - loss: 7.8374 - mae: 7.8374\n",
            "Epoch 64/100\n",
            "1/1 [==============================] - 0s 10ms/step - loss: 7.7471 - mae: 7.7471\n",
            "Epoch 65/100\n",
            "1/1 [==============================] - 0s 11ms/step - loss: 7.6564 - mae: 7.6564\n",
            "Epoch 66/100\n",
            "1/1 [==============================] - 0s 11ms/step - loss: 7.5651 - mae: 7.5651\n",
            "Epoch 67/100\n",
            "1/1 [==============================] - 0s 12ms/step - loss: 7.4733 - mae: 7.4733\n",
            "Epoch 68/100\n",
            "1/1 [==============================] - 0s 12ms/step - loss: 7.3809 - mae: 7.3809\n",
            "Epoch 69/100\n",
            "1/1 [==============================] - 0s 11ms/step - loss: 7.2880 - mae: 7.2880\n",
            "Epoch 70/100\n",
            "1/1 [==============================] - 0s 11ms/step - loss: 7.1946 - mae: 7.1946\n",
            "Epoch 71/100\n",
            "1/1 [==============================] - 0s 11ms/step - loss: 7.1006 - mae: 7.1006\n",
            "Epoch 72/100\n",
            "1/1 [==============================] - 0s 10ms/step - loss: 7.0061 - mae: 7.0061\n",
            "Epoch 73/100\n",
            "1/1 [==============================] - 0s 13ms/step - loss: 6.9110 - mae: 6.9110\n",
            "Epoch 74/100\n",
            "1/1 [==============================] - 0s 10ms/step - loss: 6.8484 - mae: 6.8484\n",
            "Epoch 75/100\n",
            "1/1 [==============================] - 0s 12ms/step - loss: 6.8372 - mae: 6.8372\n",
            "Epoch 76/100\n",
            "1/1 [==============================] - 0s 11ms/step - loss: 6.8263 - mae: 6.8263\n",
            "Epoch 77/100\n",
            "1/1 [==============================] - 0s 11ms/step - loss: 6.8156 - mae: 6.8156\n",
            "Epoch 78/100\n",
            "1/1 [==============================] - 0s 11ms/step - loss: 6.8051 - mae: 6.8051\n",
            "Epoch 79/100\n",
            "1/1 [==============================] - 0s 10ms/step - loss: 6.7948 - mae: 6.7948\n",
            "Epoch 80/100\n",
            "1/1 [==============================] - 0s 9ms/step - loss: 6.7846 - mae: 6.7846\n",
            "Epoch 81/100\n",
            "1/1 [==============================] - 0s 9ms/step - loss: 6.7746 - mae: 6.7746\n",
            "Epoch 82/100\n",
            "1/1 [==============================] - 0s 11ms/step - loss: 6.7647 - mae: 6.7647\n",
            "Epoch 83/100\n",
            "1/1 [==============================] - 0s 10ms/step - loss: 6.7549 - mae: 6.7549\n",
            "Epoch 84/100\n",
            "1/1 [==============================] - 0s 10ms/step - loss: 6.7453 - mae: 6.7453\n",
            "Epoch 85/100\n",
            "1/1 [==============================] - 0s 13ms/step - loss: 6.7357 - mae: 6.7357\n",
            "Epoch 86/100\n",
            "1/1 [==============================] - 0s 11ms/step - loss: 6.7432 - mae: 6.7432\n",
            "Epoch 87/100\n",
            "1/1 [==============================] - 0s 16ms/step - loss: 6.7507 - mae: 6.7507\n",
            "Epoch 88/100\n",
            "1/1 [==============================] - 0s 10ms/step - loss: 6.7516 - mae: 6.7516\n",
            "Epoch 89/100\n",
            "1/1 [==============================] - 0s 10ms/step - loss: 6.7464 - mae: 6.7464\n",
            "Epoch 90/100\n",
            "1/1 [==============================] - 0s 10ms/step - loss: 6.7359 - mae: 6.7359\n",
            "Epoch 91/100\n",
            "1/1 [==============================] - 0s 10ms/step - loss: 6.7205 - mae: 6.7205\n",
            "Epoch 92/100\n",
            "1/1 [==============================] - 0s 10ms/step - loss: 6.7007 - mae: 6.7007\n",
            "Epoch 93/100\n",
            "1/1 [==============================] - 0s 10ms/step - loss: 6.6770 - mae: 6.6770\n",
            "Epoch 94/100\n",
            "1/1 [==============================] - 0s 10ms/step - loss: 6.6661 - mae: 6.6661\n",
            "Epoch 95/100\n",
            "1/1 [==============================] - 0s 10ms/step - loss: 6.6596 - mae: 6.6596\n",
            "Epoch 96/100\n",
            "1/1 [==============================] - 0s 11ms/step - loss: 6.6528 - mae: 6.6528\n",
            "Epoch 97/100\n",
            "1/1 [==============================] - 0s 11ms/step - loss: 6.6458 - mae: 6.6458\n",
            "Epoch 98/100\n",
            "1/1 [==============================] - 0s 13ms/step - loss: 6.6387 - mae: 6.6387\n",
            "Epoch 99/100\n",
            "1/1 [==============================] - 0s 10ms/step - loss: 6.6313 - mae: 6.6313\n",
            "Epoch 100/100\n",
            "1/1 [==============================] - 0s 10ms/step - loss: 6.6238 - mae: 6.6238\n"
          ]
        },
        {
          "output_type": "execute_result",
          "data": {
            "text/plain": [
              "<keras.callbacks.History at 0x7f96c7b259c0>"
            ]
          },
          "metadata": {},
          "execution_count": 28
        }
      ]
    },
    {
      "cell_type": "code",
      "source": [
        "model.predict([17.0])"
      ],
      "metadata": {
        "colab": {
          "base_uri": "https://localhost:8080/"
        },
        "id": "G-dGmSVsEKlK",
        "outputId": "2216c461-ea35-4b63-8d58-4c0b2426047f"
      },
      "execution_count": null,
      "outputs": [
        {
          "output_type": "stream",
          "name": "stderr",
          "text": [
            "WARNING:tensorflow:5 out of the last 5 calls to <function Model.make_predict_function.<locals>.predict_function at 0x7f96c613b1c0> triggered tf.function retracing. Tracing is expensive and the excessive number of tracings could be due to (1) creating @tf.function repeatedly in a loop, (2) passing tensors with different shapes, (3) passing Python objects instead of tensors. For (1), please define your @tf.function outside of the loop. For (2), @tf.function has reduce_retracing=True option that can avoid unnecessary retracing. For (3), please refer to https://www.tensorflow.org/guide/function#controlling_retracing and https://www.tensorflow.org/api_docs/python/tf/function for  more details.\n"
          ]
        },
        {
          "output_type": "stream",
          "name": "stdout",
          "text": [
            "1/1 [==============================] - 0s 199ms/step\n"
          ]
        },
        {
          "output_type": "execute_result",
          "data": {
            "text/plain": [
              "array([[31.168894]], dtype=float32)"
            ]
          },
          "metadata": {},
          "execution_count": 30
        }
      ]
    },
    {
      "cell_type": "code",
      "source": [
        "27-31"
      ],
      "metadata": {
        "colab": {
          "base_uri": "https://localhost:8080/"
        },
        "id": "4zER2KKZE5Sh",
        "outputId": "a12a3e3d-1a5b-4875-8d27-8d02be0d9b0e"
      },
      "execution_count": null,
      "outputs": [
        {
          "output_type": "execute_result",
          "data": {
            "text/plain": [
              "-4"
            ]
          },
          "metadata": {},
          "execution_count": 32
        }
      ]
    },
    {
      "cell_type": "code",
      "source": [
        "# Make A bigger Dataset\n",
        "\n",
        "X = tf.range(-100,100,4)"
      ],
      "metadata": {
        "id": "XJ7AxX4gE--w"
      },
      "execution_count": null,
      "outputs": []
    },
    {
      "cell_type": "code",
      "source": [
        "X"
      ],
      "metadata": {
        "colab": {
          "base_uri": "https://localhost:8080/"
        },
        "id": "1mHx3FxNFJt8",
        "outputId": "d7b417ff-2558-41dc-b2bf-02387994f106"
      },
      "execution_count": null,
      "outputs": [
        {
          "output_type": "execute_result",
          "data": {
            "text/plain": [
              "<tf.Tensor: shape=(50,), dtype=int32, numpy=\n",
              "array([-100,  -96,  -92,  -88,  -84,  -80,  -76,  -72,  -68,  -64,  -60,\n",
              "        -56,  -52,  -48,  -44,  -40,  -36,  -32,  -28,  -24,  -20,  -16,\n",
              "        -12,   -8,   -4,    0,    4,    8,   12,   16,   20,   24,   28,\n",
              "         32,   36,   40,   44,   48,   52,   56,   60,   64,   68,   72,\n",
              "         76,   80,   84,   88,   92,   96], dtype=int32)>"
            ]
          },
          "metadata": {},
          "execution_count": 34
        }
      ]
    },
    {
      "cell_type": "code",
      "source": [
        "y = X+10"
      ],
      "metadata": {
        "id": "ZZPyf_W9FKL8"
      },
      "execution_count": null,
      "outputs": []
    },
    {
      "cell_type": "code",
      "source": [
        "y"
      ],
      "metadata": {
        "colab": {
          "base_uri": "https://localhost:8080/"
        },
        "id": "Xxm_MZ_BFM-f",
        "outputId": "9cd31e39-9d2a-44e3-a69d-7ecf54728747"
      },
      "execution_count": null,
      "outputs": [
        {
          "output_type": "execute_result",
          "data": {
            "text/plain": [
              "<tf.Tensor: shape=(50,), dtype=int32, numpy=\n",
              "array([-90, -86, -82, -78, -74, -70, -66, -62, -58, -54, -50, -46, -42,\n",
              "       -38, -34, -30, -26, -22, -18, -14, -10,  -6,  -2,   2,   6,  10,\n",
              "        14,  18,  22,  26,  30,  34,  38,  42,  46,  50,  54,  58,  62,\n",
              "        66,  70,  74,  78,  82,  86,  90,  94,  98, 102, 106], dtype=int32)>"
            ]
          },
          "metadata": {},
          "execution_count": 36
        }
      ]
    },
    {
      "cell_type": "code",
      "source": [
        "plt.plot(X, y)"
      ],
      "metadata": {
        "colab": {
          "base_uri": "https://localhost:8080/",
          "height": 447
        },
        "id": "4KvDMNP9FNaT",
        "outputId": "441c69a7-d4f5-4249-ccdd-a0414041bbf0"
      },
      "execution_count": null,
      "outputs": [
        {
          "output_type": "execute_result",
          "data": {
            "text/plain": [
              "[<matplotlib.lines.Line2D at 0x7f96c7b4a5f0>]"
            ]
          },
          "metadata": {},
          "execution_count": 37
        },
        {
          "output_type": "display_data",
          "data": {
            "text/plain": [
              "<Figure size 640x480 with 1 Axes>"
            ],
            "image/png": "[encoded data removed]"
          },
          "metadata": {}
        }
      ]
    },
    {
      "cell_type": "code",
      "source": [
        "plt.scatter(X,y)"
      ],
      "metadata": {
        "colab": {
          "base_uri": "https://localhost:8080/",
          "height": 447
        },
        "id": "fj-Lc4aMNCTb",
        "outputId": "ed672758-68e8-49d5-8d6b-57038a66576c"
      },
      "execution_count": null,
      "outputs": [
        {
          "output_type": "execute_result",
          "data": {
            "text/plain": [
              "<matplotlib.collections.PathCollection at 0x7f96c7c90d30>"
            ]
          },
          "metadata": {},
          "execution_count": 38
        },
        {
          "output_type": "display_data",
          "data": {
            "text/plain": [
              "<Figure size 640x480 with 1 Axes>"
            ],
            "image/png": "[encoded data removed]"
          },
          "metadata": {}
        }
      ]
    },
    {
      "cell_type": "code",
      "source": [
        "len(X), len(y)"
      ],
      "metadata": {
        "colab": {
          "base_uri": "https://localhost:8080/"
        },
        "id": "6jHm8r-ENGdi",
        "outputId": "9a120649-f5a5-40ec-da87-a37ef105e23e"
      },
      "execution_count": null,
      "outputs": [
        {
          "output_type": "execute_result",
          "data": {
            "text/plain": [
              "(50, 50)"
            ]
          },
          "metadata": {},
          "execution_count": 40
        }
      ]
    },
    {
      "cell_type": "code",
      "source": [
        "X_train = X[:40]\n",
        "y_train = y[:40]\n",
        "\n",
        "X_test = X[40:]\n",
        "y_test = y[40:]"
      ],
      "metadata": {
        "id": "z4AKCmXNZMe7"
      },
      "execution_count": null,
      "outputs": []
    },
    {
      "cell_type": "code",
      "source": [
        "len(X_train), len(X_test)"
      ],
      "metadata": {
        "colab": {
          "base_uri": "https://localhost:8080/"
        },
        "id": "bx8t5rJOZ0ix",
        "outputId": "38467f47-e31f-4be5-dd7b-ef37c52effb8"
      },
      "execution_count": null,
      "outputs": [
        {
          "output_type": "execute_result",
          "data": {
            "text/plain": [
              "(40, 10)"
            ]
          },
          "metadata": {},
          "execution_count": 42
        }
      ]
    },
    {
      "cell_type": "code",
      "source": [
        "plt.figure(figsize=(10,6))\n",
        "\n",
        "plt.scatter(X_train, y_train, c='b', label=\"Training_Set\")\n",
        "\n",
        "plt.scatter(X_test, y_test, c='g', label=\"Testing_Set\")"
      ],
      "metadata": {
        "colab": {
          "base_uri": "https://localhost:8080/",
          "height": 539
        },
        "id": "twpC5t1PZ4zu",
        "outputId": "09503163-d088-4b92-b2f5-af10f82787e2"
      },
      "execution_count": null,
      "outputs": [
        {
          "output_type": "execute_result",
          "data": {
            "text/plain": [
              "<matplotlib.collections.PathCollection at 0x7f96c7c5aef0>"
            ]
          },
          "metadata": {},
          "execution_count": 45
        },
        {
          "output_type": "display_data",
          "data": {
            "text/plain": [
              "<Figure size 1000x600 with 1 Axes>"
            ],
            "image/png": "[encoded data removed]"
          },
          "metadata": {}
        }
      ]
    },
    {
      "cell_type": "code",
      "source": [
        "X_train.shape"
      ],
      "metadata": {
        "colab": {
          "base_uri": "https://localhost:8080/"
        },
        "id": "gaI-RTJqbiSg",
        "outputId": "b1e0f986-e422-4932-fbc8-2ba2987506e6"
      },
      "execution_count": null,
      "outputs": [
        {
          "output_type": "execute_result",
          "data": {
            "text/plain": [
              "TensorShape([40])"
            ]
          },
          "metadata": {},
          "execution_count": 51
        }
      ]
    },
    {
      "cell_type": "code",
      "source": [
        "# Set random seed\n",
        "tf.random.set_seed(42)\n",
        "\n",
        "# Create a model (same as above)\n",
        "model = tf.keras.Sequential([\n",
        "  tf.keras.layers.Dense(1, input_shape=[1]) # define the input_shape to our model\n",
        "])\n",
        "\n",
        "# Compile model (same as above)\n",
        "model.compile(loss=tf.keras.losses.mae,\n",
        "              optimizer=tf.keras.optimizers.SGD(),\n",
        "              metrics=[\"mae\"])"
      ],
      "metadata": {
        "id": "DPCEYnCnabUP"
      },
      "execution_count": null,
      "outputs": []
    },
    {
      "cell_type": "code",
      "source": [
        "model.summary()"
      ],
      "metadata": {
        "colab": {
          "base_uri": "https://localhost:8080/"
        },
        "id": "IsxVJDsca9QP",
        "outputId": "705d30ec-7b5c-4f09-e68f-0b098d28e29a"
      },
      "execution_count": null,
      "outputs": [
        {
          "output_type": "stream",
          "name": "stdout",
          "text": [
            "Model: \"sequential_17\"\n",
            "_________________________________________________________________\n",
            " Layer (type)                Output Shape              Param #   \n",
            "=================================================================\n",
            " dense_19 (Dense)            (None, 1)                 2         \n",
            "                                                                 \n",
            "=================================================================\n",
            "Total params: 2\n",
            "Trainable params: 2\n",
            "Non-trainable params: 0\n",
            "_________________________________________________________________\n"
          ]
        }
      ]
    },
    {
      "cell_type": "code",
      "source": [
        "model.fit(X_train, y_train, epochs=100, verbose=0)"
      ],
      "metadata": {
        "colab": {
          "base_uri": "https://localhost:8080/"
        },
        "id": "w8IauYAZbDLJ",
        "outputId": "02821cb9-ea9d-4e0e-bada-553195deae83"
      },
      "execution_count": null,
      "outputs": [
        {
          "output_type": "execute_result",
          "data": {
            "text/plain": [
              "<keras.callbacks.History at 0x7f96c6327070>"
            ]
          },
          "metadata": {},
          "execution_count": 81
        }
      ]
    },
    {
      "cell_type": "code",
      "source": [
        "model.summary()"
      ],
      "metadata": {
        "colab": {
          "base_uri": "https://localhost:8080/"
        },
        "id": "3gh8OTqbb8kf",
        "outputId": "53389ac2-5ec3-4a1b-a6db-049303a62647"
      },
      "execution_count": null,
      "outputs": [
        {
          "output_type": "stream",
          "name": "stdout",
          "text": [
            "Model: \"sequential_17\"\n",
            "_________________________________________________________________\n",
            " Layer (type)                Output Shape              Param #   \n",
            "=================================================================\n",
            " dense_19 (Dense)            (None, 1)                 2         \n",
            "                                                                 \n",
            "=================================================================\n",
            "Total params: 2\n",
            "Trainable params: 2\n",
            "Non-trainable params: 0\n",
            "_________________________________________________________________\n"
          ]
        }
      ]
    },
    {
      "cell_type": "code",
      "source": [
        "from tensorflow.keras.utils import plot_model\n",
        "\n",
        "plot_model(model, show_shapes=True)"
      ],
      "metadata": {
        "colab": {
          "base_uri": "https://localhost:8080/",
          "height": 201
        },
        "id": "dJjt_bVXcI5L",
        "outputId": "db8934f7-83a7-4b1e-9247-ab764b9f8a8e"
      },
      "execution_count": null,
      "outputs": [
        {
          "output_type": "execute_result",
          "data": {
            "image/png": "[encoded data removed]",
            "text/plain": [
              "<IPython.core.display.Image object>"
            ]
          },
          "metadata": {},
          "execution_count": 83
        }
      ]
    },
    {
      "cell_type": "code",
      "source": [
        "#Predictions\n",
        "\n",
        "y_pread = model.predict(X_test)\n",
        "y_pread"
      ],
      "metadata": {
        "colab": {
          "base_uri": "https://localhost:8080/"
        },
        "id": "AHH9hp3udaCs",
        "outputId": "1d5c0e74-5265-4e73-9cdb-f8112c387c0c"
      },
      "execution_count": null,
      "outputs": [
        {
          "output_type": "stream",
          "name": "stderr",
          "text": [
            "WARNING:tensorflow:6 out of the last 6 calls to <function Model.make_predict_function.<locals>.predict_function at 0x7f96c6214430> triggered tf.function retracing. Tracing is expensive and the excessive number of tracings could be due to (1) creating @tf.function repeatedly in a loop, (2) passing tensors with different shapes, (3) passing Python objects instead of tensors. For (1), please define your @tf.function outside of the loop. For (2), @tf.function has reduce_retracing=True option that can avoid unnecessary retracing. For (3), please refer to https://www.tensorflow.org/guide/function#controlling_retracing and https://www.tensorflow.org/api_docs/python/tf/function for  more details.\n"
          ]
        },
        {
          "output_type": "stream",
          "name": "stdout",
          "text": [
            "1/1 [==============================] - 0s 58ms/step\n"
          ]
        },
        {
          "output_type": "execute_result",
          "data": {
            "text/plain": [
              "array([[44.39644 ],\n",
              "       [47.271408],\n",
              "       [50.146378],\n",
              "       [53.02135 ],\n",
              "       [55.89632 ],\n",
              "       [58.771294],\n",
              "       [61.646263],\n",
              "       [64.52123 ],\n",
              "       [67.3962  ],\n",
              "       [70.27117 ]], dtype=float32)"
            ]
          },
          "metadata": {},
          "execution_count": 84
        }
      ]
    },
    {
      "cell_type": "code",
      "source": [],
      "metadata": {
        "id": "k3dkiihLeS5h"
      },
      "execution_count": null,
      "outputs": []
    }
  ]
}