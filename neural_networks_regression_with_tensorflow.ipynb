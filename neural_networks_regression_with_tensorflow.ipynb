{
  "nbformat": 4,
  "nbformat_minor": 0,
  "metadata": {
    "colab": {
      "provenance": []
    },
    "kernelspec": {
      "name": "python3",
      "display_name": "Python 3"
    },
    "language_info": {
      "name": "python"
    }
  },
  "cells": [
    {
      "cell_type": "code",
      "source": [
        "import tensorflow as tf\n",
        "print(tf.__version__) # check the version (should be 2.x+)"
      ],
      "metadata": {
        "colab": {
          "base_uri": "https://localhost:8080/"
        },
        "id": "6v7dMA4heXeB",
        "outputId": "ccde8737-37a3-4266-90c3-d32264e2b90b"
      },
      "execution_count": 41,
      "outputs": [
        {
          "output_type": "stream",
          "name": "stdout",
          "text": [
            "2.12.0\n"
          ]
        }
      ]
    },
    {
      "cell_type": "code",
      "source": [
        "import numpy as np\n",
        "import matplotlib.pyplot as plt\n",
        "\n",
        "# Create features\n",
        "X = np.array([-7.0, -4.0, -1.0, 2.0, 5.0, 8.0, 11.0, 14.0])\n",
        "\n",
        "# Create labels\n",
        "y = np.array([3.0, 6.0, 9.0, 12.0, 15.0, 18.0, 21.0, 24.0])\n",
        "\n",
        "# Visualize it\n",
        "plt.scatter(X, y);"
      ],
      "metadata": {
        "colab": {
          "base_uri": "https://localhost:8080/",
          "height": 435
        },
        "id": "f-IFY5noedQJ",
        "outputId": "5b1d0e4c-8d19-4b1e-d23b-7d53cedaf2d1"
      },
      "execution_count": 42,
      "outputs": [
        {
          "output_type": "display_data",
          "data": {
            "text/plain": [
              "<Figure size 640x480 with 1 Axes>"
            ],
            "image/png": "[encoded data removed]"
          },
          "metadata": {}
        }
      ]
    },
    {
      "cell_type": "code",
      "source": [
        "# Example input and output shapes of a regresson model\n",
        "house_info = tf.constant([\"bedroom\", \"bathroom\", \"garage\"])\n",
        "house_price = tf.constant([939700])\n",
        "house_info, house_price"
      ],
      "metadata": {
        "colab": {
          "base_uri": "https://localhost:8080/"
        },
        "id": "9hM8q0zGehbY",
        "outputId": "0cd23bbc-0116-4e42-fefa-76c8c8d57988"
      },
      "execution_count": 43,
      "outputs": [
        {
          "output_type": "execute_result",
          "data": {
            "text/plain": [
              "(<tf.Tensor: shape=(3,), dtype=string, numpy=array([b'bedroom', b'bathroom', b'garage'], dtype=object)>,\n",
              " <tf.Tensor: shape=(1,), dtype=int32, numpy=array([939700], dtype=int32)>)"
            ]
          },
          "metadata": {},
          "execution_count": 43
        }
      ]
    },
    {
      "cell_type": "code",
      "source": [
        "house_info.shape"
      ],
      "metadata": {
        "colab": {
          "base_uri": "https://localhost:8080/"
        },
        "id": "u_is85kEekaP",
        "outputId": "7b8605e3-bd08-439d-9384-3cb5cac37390"
      },
      "execution_count": 44,
      "outputs": [
        {
          "output_type": "execute_result",
          "data": {
            "text/plain": [
              "TensorShape([3])"
            ]
          },
          "metadata": {},
          "execution_count": 44
        }
      ]
    },
    {
      "cell_type": "code",
      "source": [
        "input_shape = X.shape\n",
        "output_shape = y.shape\n",
        "input_shape, output_shape"
      ],
      "metadata": {
        "colab": {
          "base_uri": "https://localhost:8080/"
        },
        "id": "qHHytwyizUnL",
        "outputId": "2e3d37e4-b962-47f8-9178-a8169aef5ece"
      },
      "execution_count": 45,
      "outputs": [
        {
          "output_type": "execute_result",
          "data": {
            "text/plain": [
              "((8,), (8,))"
            ]
          },
          "metadata": {},
          "execution_count": 45
        }
      ]
    },
    {
      "cell_type": "code",
      "source": [
        "X[0], y[0]"
      ],
      "metadata": {
        "colab": {
          "base_uri": "https://localhost:8080/"
        },
        "id": "t938_xd6zgu6",
        "outputId": "192c4bba-43d8-401e-a333-8b3152802a83"
      },
      "execution_count": 46,
      "outputs": [
        {
          "output_type": "execute_result",
          "data": {
            "text/plain": [
              "(-7.0, 3.0)"
            ]
          },
          "metadata": {},
          "execution_count": 46
        }
      ]
    },
    {
      "cell_type": "code",
      "source": [
        "X[1], y[1]"
      ],
      "metadata": {
        "colab": {
          "base_uri": "https://localhost:8080/"
        },
        "id": "LiFdHD7GzjiE",
        "outputId": "c156d009-82c2-4185-f879-3c1f0d1ef3d9"
      },
      "execution_count": 47,
      "outputs": [
        {
          "output_type": "execute_result",
          "data": {
            "text/plain": [
              "(-4.0, 6.0)"
            ]
          },
          "metadata": {},
          "execution_count": 47
        }
      ]
    },
    {
      "cell_type": "code",
      "source": [
        "X[0].ndim"
      ],
      "metadata": {
        "colab": {
          "base_uri": "https://localhost:8080/"
        },
        "id": "NSPJTKOkznCR",
        "outputId": "39275a65-4c39-44c2-e7a2-93b4c7558b30"
      },
      "execution_count": 48,
      "outputs": [
        {
          "output_type": "execute_result",
          "data": {
            "text/plain": [
              "0"
            ]
          },
          "metadata": {},
          "execution_count": 48
        }
      ]
    },
    {
      "cell_type": "code",
      "source": [
        "X = tf.constant(X)\n",
        "y = tf.constant(y)\n",
        "X,y"
      ],
      "metadata": {
        "colab": {
          "base_uri": "https://localhost:8080/"
        },
        "id": "v171Vc3nzzcP",
        "outputId": "2c03142d-6ed2-4e62-ecfd-2d7966a5ef00"
      },
      "execution_count": 49,
      "outputs": [
        {
          "output_type": "execute_result",
          "data": {
            "text/plain": [
              "(<tf.Tensor: shape=(8,), dtype=float64, numpy=array([-7., -4., -1.,  2.,  5.,  8., 11., 14.])>,\n",
              " <tf.Tensor: shape=(8,), dtype=float64, numpy=array([ 3.,  6.,  9., 12., 15., 18., 21., 24.])>)"
            ]
          },
          "metadata": {},
          "execution_count": 49
        }
      ]
    },
    {
      "cell_type": "code",
      "source": [
        "input_shape = X[0].shape\n",
        "output_shape = y[0].shape"
      ],
      "metadata": {
        "id": "6GG23kokz_OX"
      },
      "execution_count": 50,
      "outputs": []
    },
    {
      "cell_type": "code",
      "source": [
        "input_shape, output_shape"
      ],
      "metadata": {
        "colab": {
          "base_uri": "https://localhost:8080/"
        },
        "id": "IAHL-I5b0Jch",
        "outputId": "23769862-b5a1-463a-d4b5-9db6e1889666"
      },
      "execution_count": 51,
      "outputs": [
        {
          "output_type": "execute_result",
          "data": {
            "text/plain": [
              "(TensorShape([]), TensorShape([]))"
            ]
          },
          "metadata": {},
          "execution_count": 51
        }
      ]
    },
    {
      "cell_type": "code",
      "source": [
        "plt.scatter(X,y)"
      ],
      "metadata": {
        "colab": {
          "base_uri": "https://localhost:8080/",
          "height": 452
        },
        "id": "ALjj57ds0J5P",
        "outputId": "0cd3f6e7-23f5-44e7-bc29-385b03525f1e"
      },
      "execution_count": 52,
      "outputs": [
        {
          "output_type": "execute_result",
          "data": {
            "text/plain": [
              "<matplotlib.collections.PathCollection at 0x7f1ded27ce50>"
            ]
          },
          "metadata": {},
          "execution_count": 52
        },
        {
          "output_type": "display_data",
          "data": {
            "text/plain": [
              "<Figure size 640x480 with 1 Axes>"
            ],
            "image/png": "[encoded data removed]"
          },
          "metadata": {}
        }
      ]
    },
    {
      "cell_type": "code",
      "source": [
        "#Set Random Seeds\n",
        "\n",
        "tf.random.set_seed(42)\n",
        "\n",
        "#Model\n",
        "\n",
        "model = tf.keras.Sequential([\n",
        "    tf.keras.layers.Dense(1)\n",
        "])\n",
        "\n",
        "#Compile\n",
        "\n",
        "model.compile(loss=tf.keras.losses.mae,\n",
        "              optimizer=tf.keras.optimizers.SGD(),\n",
        "              metrics=[\"mae\"])\n",
        "\n",
        "model.fit(tf.expand_dims(X, axis=-1), y, epochs=5)\n"
      ],
      "metadata": {
        "colab": {
          "base_uri": "https://localhost:8080/"
        },
        "id": "Lw_6jqMT0RGN",
        "outputId": "740a4921-0d77-4bd9-dabf-6f63e9eb9014"
      },
      "execution_count": 53,
      "outputs": [
        {
          "output_type": "stream",
          "name": "stdout",
          "text": [
            "Epoch 1/5\n",
            "1/1 [==============================] - 1s 564ms/step - loss: 10.3633 - mae: 10.3633\n",
            "Epoch 2/5\n",
            "1/1 [==============================] - 0s 23ms/step - loss: 10.2308 - mae: 10.2308\n",
            "Epoch 3/5\n",
            "1/1 [==============================] - 0s 14ms/step - loss: 10.0983 - mae: 10.0983\n",
            "Epoch 4/5\n",
            "1/1 [==============================] - 0s 16ms/step - loss: 9.9658 - mae: 9.9658\n",
            "Epoch 5/5\n",
            "1/1 [==============================] - 0s 17ms/step - loss: 9.8333 - mae: 9.8333\n"
          ]
        },
        {
          "output_type": "execute_result",
          "data": {
            "text/plain": [
              "<keras.callbacks.History at 0x7f1ded21b430>"
            ]
          },
          "metadata": {},
          "execution_count": 53
        }
      ]
    },
    {
      "cell_type": "code",
      "source": [
        "X = tf.cast(tf.constant(X), dtype=tf.float32)\n",
        "y = tf.cast(tf.constant(y), dtype=tf.float32)\n",
        "X,y"
      ],
      "metadata": {
        "colab": {
          "base_uri": "https://localhost:8080/"
        },
        "id": "lEwRYYqj_j91",
        "outputId": "562627dc-6211-4027-c9ac-86494e93b303"
      },
      "execution_count": 54,
      "outputs": [
        {
          "output_type": "execute_result",
          "data": {
            "text/plain": [
              "(<tf.Tensor: shape=(8,), dtype=float32, numpy=array([-7., -4., -1.,  2.,  5.,  8., 11., 14.], dtype=float32)>,\n",
              " <tf.Tensor: shape=(8,), dtype=float32, numpy=array([ 3.,  6.,  9., 12., 15., 18., 21., 24.], dtype=float32)>)"
            ]
          },
          "metadata": {},
          "execution_count": 54
        }
      ]
    },
    {
      "cell_type": "code",
      "source": [
        "#Predict\n",
        "\n",
        "y_pread = model.predict([17.0])\n",
        "y_pread"
      ],
      "metadata": {
        "colab": {
          "base_uri": "https://localhost:8080/"
        },
        "id": "rj_Nl-sJBulm",
        "outputId": "cc756a70-0641-4118-cf61-be45256a6207"
      },
      "execution_count": 55,
      "outputs": [
        {
          "output_type": "stream",
          "name": "stderr",
          "text": [
            "WARNING:tensorflow:6 out of the last 6 calls to <function Model.make_predict_function.<locals>.predict_function at 0x7f1ded22c3a0> triggered tf.function retracing. Tracing is expensive and the excessive number of tracings could be due to (1) creating @tf.function repeatedly in a loop, (2) passing tensors with different shapes, (3) passing Python objects instead of tensors. For (1), please define your @tf.function outside of the loop. For (2), @tf.function has reduce_retracing=True option that can avoid unnecessary retracing. For (3), please refer to https://www.tensorflow.org/guide/function#controlling_retracing and https://www.tensorflow.org/api_docs/python/tf/function for  more details.\n"
          ]
        },
        {
          "output_type": "stream",
          "name": "stdout",
          "text": [
            "1/1 [==============================] - 0s 112ms/step\n"
          ]
        },
        {
          "output_type": "execute_result",
          "data": {
            "text/plain": [
              "array([[18.260557]], dtype=float32)"
            ]
          },
          "metadata": {},
          "execution_count": 55
        }
      ]
    },
    {
      "cell_type": "code",
      "source": [
        "y_pread + 11"
      ],
      "metadata": {
        "colab": {
          "base_uri": "https://localhost:8080/"
        },
        "id": "gA6GLzbzB5NP",
        "outputId": "600f868d-da58-470e-bb4e-ea31b9db3044"
      },
      "execution_count": 56,
      "outputs": [
        {
          "output_type": "execute_result",
          "data": {
            "text/plain": [
              "array([[29.260557]], dtype=float32)"
            ]
          },
          "metadata": {},
          "execution_count": 56
        }
      ]
    },
    {
      "cell_type": "code",
      "source": [
        "#Set Random Seeds\n",
        "\n",
        "tf.random.set_seed(42)\n",
        "\n",
        "#Model\n",
        "\n",
        "model = tf.keras.Sequential([\n",
        "    tf.keras.layers.Dense(1)\n",
        "])\n",
        "\n",
        "#Compile\n",
        "\n",
        "model.compile(loss=tf.keras.losses.mae,\n",
        "              optimizer=tf.keras.optimizers.SGD(),\n",
        "              metrics=[\"mae\"])\n",
        "\n",
        "model.fit(tf.expand_dims(X, axis=-1), y, epochs=100)\n"
      ],
      "metadata": {
        "colab": {
          "base_uri": "https://localhost:8080/"
        },
        "id": "O1MIHJyYCCEk",
        "outputId": "24cb7790-b5c8-43f6-f108-e6075dc86775"
      },
      "execution_count": 57,
      "outputs": [
        {
          "output_type": "stream",
          "name": "stdout",
          "text": [
            "Epoch 1/100\n",
            "1/1 [==============================] - 1s 550ms/step - loss: 8.6734 - mae: 8.6734\n",
            "Epoch 2/100\n",
            "1/1 [==============================] - 0s 16ms/step - loss: 8.5409 - mae: 8.5409\n",
            "Epoch 3/100\n",
            "1/1 [==============================] - 0s 14ms/step - loss: 8.4084 - mae: 8.4084\n",
            "Epoch 4/100\n",
            "1/1 [==============================] - 0s 13ms/step - loss: 8.2759 - mae: 8.2759\n",
            "Epoch 5/100\n",
            "1/1 [==============================] - 0s 16ms/step - loss: 8.1434 - mae: 8.1434\n",
            "Epoch 6/100\n",
            "1/1 [==============================] - 0s 14ms/step - loss: 8.0109 - mae: 8.0109\n",
            "Epoch 7/100\n",
            "1/1 [==============================] - 0s 15ms/step - loss: 7.8784 - mae: 7.8784\n",
            "Epoch 8/100\n",
            "1/1 [==============================] - 0s 10ms/step - loss: 7.7459 - mae: 7.7459\n",
            "Epoch 9/100\n",
            "1/1 [==============================] - 0s 11ms/step - loss: 7.6134 - mae: 7.6134\n",
            "Epoch 10/100\n",
            "1/1 [==============================] - 0s 10ms/step - loss: 7.4809 - mae: 7.4809\n",
            "Epoch 11/100\n",
            "1/1 [==============================] - 0s 12ms/step - loss: 7.4250 - mae: 7.4250\n",
            "Epoch 12/100\n",
            "1/1 [==============================] - 0s 12ms/step - loss: 7.4194 - mae: 7.4194\n",
            "Epoch 13/100\n",
            "1/1 [==============================] - 0s 15ms/step - loss: 7.4138 - mae: 7.4138\n",
            "Epoch 14/100\n",
            "1/1 [==============================] - 0s 13ms/step - loss: 7.4081 - mae: 7.4081\n",
            "Epoch 15/100\n",
            "1/1 [==============================] - 0s 10ms/step - loss: 7.4025 - mae: 7.4025\n",
            "Epoch 16/100\n",
            "1/1 [==============================] - 0s 11ms/step - loss: 7.3969 - mae: 7.3969\n",
            "Epoch 17/100\n",
            "1/1 [==============================] - 0s 14ms/step - loss: 7.3913 - mae: 7.3913\n",
            "Epoch 18/100\n",
            "1/1 [==============================] - 0s 35ms/step - loss: 7.3856 - mae: 7.3856\n",
            "Epoch 19/100\n",
            "1/1 [==============================] - 0s 38ms/step - loss: 7.3800 - mae: 7.3800\n",
            "Epoch 20/100\n",
            "1/1 [==============================] - 0s 27ms/step - loss: 7.3744 - mae: 7.3744\n",
            "Epoch 21/100\n",
            "1/1 [==============================] - 0s 45ms/step - loss: 7.3687 - mae: 7.3687\n",
            "Epoch 22/100\n",
            "1/1 [==============================] - 0s 33ms/step - loss: 7.3631 - mae: 7.3631\n",
            "Epoch 23/100\n",
            "1/1 [==============================] - 0s 35ms/step - loss: 7.3575 - mae: 7.3575\n",
            "Epoch 24/100\n",
            "1/1 [==============================] - 0s 43ms/step - loss: 7.3519 - mae: 7.3519\n",
            "Epoch 25/100\n",
            "1/1 [==============================] - 0s 31ms/step - loss: 7.3463 - mae: 7.3463\n",
            "Epoch 26/100\n",
            "1/1 [==============================] - 0s 49ms/step - loss: 7.3406 - mae: 7.3406\n",
            "Epoch 27/100\n",
            "1/1 [==============================] - 0s 33ms/step - loss: 7.3350 - mae: 7.3350\n",
            "Epoch 28/100\n",
            "1/1 [==============================] - 0s 47ms/step - loss: 7.3294 - mae: 7.3294\n",
            "Epoch 29/100\n",
            "1/1 [==============================] - 0s 29ms/step - loss: 7.3238 - mae: 7.3238\n",
            "Epoch 30/100\n",
            "1/1 [==============================] - 0s 26ms/step - loss: 7.3181 - mae: 7.3181\n",
            "Epoch 31/100\n",
            "1/1 [==============================] - 0s 24ms/step - loss: 7.3125 - mae: 7.3125\n",
            "Epoch 32/100\n",
            "1/1 [==============================] - 0s 26ms/step - loss: 7.3069 - mae: 7.3069\n",
            "Epoch 33/100\n",
            "1/1 [==============================] - 0s 27ms/step - loss: 7.3013 - mae: 7.3013\n",
            "Epoch 34/100\n",
            "1/1 [==============================] - 0s 29ms/step - loss: 7.2956 - mae: 7.2956\n",
            "Epoch 35/100\n",
            "1/1 [==============================] - 0s 25ms/step - loss: 7.2900 - mae: 7.2900\n",
            "Epoch 36/100\n",
            "1/1 [==============================] - 0s 26ms/step - loss: 7.2844 - mae: 7.2844\n",
            "Epoch 37/100\n",
            "1/1 [==============================] - 0s 26ms/step - loss: 7.2787 - mae: 7.2787\n",
            "Epoch 38/100\n",
            "1/1 [==============================] - 0s 23ms/step - loss: 7.2731 - mae: 7.2731\n",
            "Epoch 39/100\n",
            "1/1 [==============================] - 0s 21ms/step - loss: 7.2675 - mae: 7.2675\n",
            "Epoch 40/100\n",
            "1/1 [==============================] - 0s 22ms/step - loss: 7.2619 - mae: 7.2619\n",
            "Epoch 41/100\n",
            "1/1 [==============================] - 0s 20ms/step - loss: 7.2563 - mae: 7.2563\n",
            "Epoch 42/100\n",
            "1/1 [==============================] - 0s 25ms/step - loss: 7.2506 - mae: 7.2506\n",
            "Epoch 43/100\n",
            "1/1 [==============================] - 0s 30ms/step - loss: 7.2450 - mae: 7.2450\n",
            "Epoch 44/100\n",
            "1/1 [==============================] - 0s 35ms/step - loss: 7.2394 - mae: 7.2394\n",
            "Epoch 45/100\n",
            "1/1 [==============================] - 0s 32ms/step - loss: 7.2338 - mae: 7.2338\n",
            "Epoch 46/100\n",
            "1/1 [==============================] - 0s 20ms/step - loss: 7.2281 - mae: 7.2281\n",
            "Epoch 47/100\n",
            "1/1 [==============================] - 0s 22ms/step - loss: 7.2225 - mae: 7.2225\n",
            "Epoch 48/100\n",
            "1/1 [==============================] - 0s 23ms/step - loss: 7.2169 - mae: 7.2169\n",
            "Epoch 49/100\n",
            "1/1 [==============================] - 0s 29ms/step - loss: 7.2113 - mae: 7.2113\n",
            "Epoch 50/100\n",
            "1/1 [==============================] - 0s 33ms/step - loss: 7.2056 - mae: 7.2056\n",
            "Epoch 51/100\n",
            "1/1 [==============================] - 0s 40ms/step - loss: 7.2000 - mae: 7.2000\n",
            "Epoch 52/100\n",
            "1/1 [==============================] - 0s 26ms/step - loss: 7.1944 - mae: 7.1944\n",
            "Epoch 53/100\n",
            "1/1 [==============================] - 0s 28ms/step - loss: 7.1887 - mae: 7.1887\n",
            "Epoch 54/100\n",
            "1/1 [==============================] - 0s 27ms/step - loss: 7.1831 - mae: 7.1831\n",
            "Epoch 55/100\n",
            "1/1 [==============================] - 0s 25ms/step - loss: 7.1775 - mae: 7.1775\n",
            "Epoch 56/100\n",
            "1/1 [==============================] - 0s 26ms/step - loss: 7.1719 - mae: 7.1719\n",
            "Epoch 57/100\n",
            "1/1 [==============================] - 0s 27ms/step - loss: 7.1663 - mae: 7.1663\n",
            "Epoch 58/100\n",
            "1/1 [==============================] - 0s 27ms/step - loss: 7.1606 - mae: 7.1606\n",
            "Epoch 59/100\n",
            "1/1 [==============================] - 0s 26ms/step - loss: 7.1550 - mae: 7.1550\n",
            "Epoch 60/100\n",
            "1/1 [==============================] - 0s 24ms/step - loss: 7.1494 - mae: 7.1494\n",
            "Epoch 61/100\n",
            "1/1 [==============================] - 0s 27ms/step - loss: 7.1438 - mae: 7.1438\n",
            "Epoch 62/100\n",
            "1/1 [==============================] - 0s 26ms/step - loss: 7.1381 - mae: 7.1381\n",
            "Epoch 63/100\n",
            "1/1 [==============================] - 0s 21ms/step - loss: 7.1325 - mae: 7.1325\n",
            "Epoch 64/100\n",
            "1/1 [==============================] - 0s 22ms/step - loss: 7.1269 - mae: 7.1269\n",
            "Epoch 65/100\n",
            "1/1 [==============================] - 0s 25ms/step - loss: 7.1213 - mae: 7.1213\n",
            "Epoch 66/100\n",
            "1/1 [==============================] - 0s 25ms/step - loss: 7.1156 - mae: 7.1156\n",
            "Epoch 67/100\n",
            "1/1 [==============================] - 0s 14ms/step - loss: 7.1100 - mae: 7.1100\n",
            "Epoch 68/100\n",
            "1/1 [==============================] - 0s 13ms/step - loss: 7.1044 - mae: 7.1044\n",
            "Epoch 69/100\n",
            "1/1 [==============================] - 0s 19ms/step - loss: 7.0988 - mae: 7.0988\n",
            "Epoch 70/100\n",
            "1/1 [==============================] - 0s 19ms/step - loss: 7.0931 - mae: 7.0931\n",
            "Epoch 71/100\n",
            "1/1 [==============================] - 0s 20ms/step - loss: 7.0875 - mae: 7.0875\n",
            "Epoch 72/100\n",
            "1/1 [==============================] - 0s 19ms/step - loss: 7.0819 - mae: 7.0819\n",
            "Epoch 73/100\n",
            "1/1 [==============================] - 0s 14ms/step - loss: 7.0763 - mae: 7.0763\n",
            "Epoch 74/100\n",
            "1/1 [==============================] - 0s 18ms/step - loss: 7.0706 - mae: 7.0706\n",
            "Epoch 75/100\n",
            "1/1 [==============================] - 0s 14ms/step - loss: 7.0650 - mae: 7.0650\n",
            "Epoch 76/100\n",
            "1/1 [==============================] - 0s 14ms/step - loss: 7.0594 - mae: 7.0594\n",
            "Epoch 77/100\n",
            "1/1 [==============================] - 0s 15ms/step - loss: 7.0538 - mae: 7.0538\n",
            "Epoch 78/100\n",
            "1/1 [==============================] - 0s 33ms/step - loss: 7.0481 - mae: 7.0481\n",
            "Epoch 79/100\n",
            "1/1 [==============================] - 0s 18ms/step - loss: 7.0425 - mae: 7.0425\n",
            "Epoch 80/100\n",
            "1/1 [==============================] - 0s 22ms/step - loss: 7.0369 - mae: 7.0369\n",
            "Epoch 81/100\n",
            "1/1 [==============================] - 0s 15ms/step - loss: 7.0312 - mae: 7.0312\n",
            "Epoch 82/100\n",
            "1/1 [==============================] - 0s 14ms/step - loss: 7.0256 - mae: 7.0256\n",
            "Epoch 83/100\n",
            "1/1 [==============================] - 0s 26ms/step - loss: 7.0200 - mae: 7.0200\n",
            "Epoch 84/100\n",
            "1/1 [==============================] - 0s 21ms/step - loss: 7.0144 - mae: 7.0144\n",
            "Epoch 85/100\n",
            "1/1 [==============================] - 0s 21ms/step - loss: 7.0088 - mae: 7.0088\n",
            "Epoch 86/100\n",
            "1/1 [==============================] - 0s 34ms/step - loss: 7.0031 - mae: 7.0031\n",
            "Epoch 87/100\n",
            "1/1 [==============================] - 0s 16ms/step - loss: 6.9975 - mae: 6.9975\n",
            "Epoch 88/100\n",
            "1/1 [==============================] - 0s 21ms/step - loss: 6.9919 - mae: 6.9919\n",
            "Epoch 89/100\n",
            "1/1 [==============================] - 0s 9ms/step - loss: 6.9863 - mae: 6.9863\n",
            "Epoch 90/100\n",
            "1/1 [==============================] - 0s 19ms/step - loss: 6.9806 - mae: 6.9806\n",
            "Epoch 91/100\n",
            "1/1 [==============================] - 0s 10ms/step - loss: 6.9750 - mae: 6.9750\n",
            "Epoch 92/100\n",
            "1/1 [==============================] - 0s 20ms/step - loss: 6.9694 - mae: 6.9694\n",
            "Epoch 93/100\n",
            "1/1 [==============================] - 0s 14ms/step - loss: 6.9638 - mae: 6.9638\n",
            "Epoch 94/100\n",
            "1/1 [==============================] - 0s 24ms/step - loss: 6.9581 - mae: 6.9581\n",
            "Epoch 95/100\n",
            "1/1 [==============================] - 0s 14ms/step - loss: 6.9525 - mae: 6.9525\n",
            "Epoch 96/100\n",
            "1/1 [==============================] - 0s 14ms/step - loss: 6.9469 - mae: 6.9469\n",
            "Epoch 97/100\n",
            "1/1 [==============================] - 0s 16ms/step - loss: 6.9413 - mae: 6.9413\n",
            "Epoch 98/100\n",
            "1/1 [==============================] - 0s 19ms/step - loss: 6.9356 - mae: 6.9356\n",
            "Epoch 99/100\n",
            "1/1 [==============================] - 0s 26ms/step - loss: 6.9300 - mae: 6.9300\n",
            "Epoch 100/100\n",
            "1/1 [==============================] - 0s 18ms/step - loss: 6.9244 - mae: 6.9244\n"
          ]
        },
        {
          "output_type": "execute_result",
          "data": {
            "text/plain": [
              "<keras.callbacks.History at 0x7f1ded18d330>"
            ]
          },
          "metadata": {},
          "execution_count": 57
        }
      ]
    },
    {
      "cell_type": "code",
      "source": [
        "model.predict([17.0])"
      ],
      "metadata": {
        "colab": {
          "base_uri": "https://localhost:8080/"
        },
        "id": "ihnesCtjCMp2",
        "outputId": "fdc24e38-1109-4654-d259-f89fe8b9b9ab"
      },
      "execution_count": 58,
      "outputs": [
        {
          "output_type": "stream",
          "name": "stdout",
          "text": [
            "1/1 [==============================] - 0s 133ms/step\n"
          ]
        },
        {
          "output_type": "execute_result",
          "data": {
            "text/plain": [
              "array([[30.168604]], dtype=float32)"
            ]
          },
          "metadata": {},
          "execution_count": 58
        }
      ]
    },
    {
      "cell_type": "code",
      "source": [
        "#Set Random Seeds\n",
        "\n",
        "tf.random.set_seed(42)\n",
        "\n",
        "#Model\n",
        "\n",
        "model = tf.keras.Sequential([\n",
        "    tf.keras.layers.Dense(100, activation =\"relu\"),\n",
        "    tf.keras.layers.Dense(1)\n",
        "])\n",
        "\n",
        "#Compile\n",
        "\n",
        "model.compile(loss=tf.keras.losses.mae,\n",
        "              optimizer=tf.keras.optimizers.SGD(),\n",
        "              metrics=[\"mae\"])\n",
        "\n",
        "model.fit(tf.expand_dims(X, axis=-1), y, epochs=100)\n"
      ],
      "metadata": {
        "colab": {
          "base_uri": "https://localhost:8080/"
        },
        "id": "lG1qThKICTgE",
        "outputId": "c200893d-3791-4858-d70e-745d8cefe33a"
      },
      "execution_count": 59,
      "outputs": [
        {
          "output_type": "stream",
          "name": "stdout",
          "text": [
            "Epoch 1/100\n",
            "1/1 [==============================] - 1s 1s/step - loss: 13.6290 - mae: 13.6290\n",
            "Epoch 2/100\n",
            "1/1 [==============================] - 0s 36ms/step - loss: 13.0148 - mae: 13.0148\n",
            "Epoch 3/100\n",
            "1/1 [==============================] - 0s 19ms/step - loss: 12.3969 - mae: 12.3969\n",
            "Epoch 4/100\n",
            "1/1 [==============================] - 0s 15ms/step - loss: 11.7836 - mae: 11.7836\n",
            "Epoch 5/100\n",
            "1/1 [==============================] - 0s 19ms/step - loss: 11.1671 - mae: 11.1671\n",
            "Epoch 6/100\n",
            "1/1 [==============================] - 0s 16ms/step - loss: 10.5314 - mae: 10.5314\n",
            "Epoch 7/100\n",
            "1/1 [==============================] - 0s 24ms/step - loss: 9.8677 - mae: 9.8677\n",
            "Epoch 8/100\n",
            "1/1 [==============================] - 0s 34ms/step - loss: 9.1756 - mae: 9.1756\n",
            "Epoch 9/100\n",
            "1/1 [==============================] - 0s 21ms/step - loss: 8.4542 - mae: 8.4542\n",
            "Epoch 10/100\n",
            "1/1 [==============================] - 0s 20ms/step - loss: 7.6877 - mae: 7.6877\n",
            "Epoch 11/100\n",
            "1/1 [==============================] - 0s 18ms/step - loss: 6.8743 - mae: 6.8743\n",
            "Epoch 12/100\n",
            "1/1 [==============================] - 0s 25ms/step - loss: 6.0074 - mae: 6.0074\n",
            "Epoch 13/100\n",
            "1/1 [==============================] - 0s 25ms/step - loss: 5.0731 - mae: 5.0731\n",
            "Epoch 14/100\n",
            "1/1 [==============================] - 0s 16ms/step - loss: 4.2788 - mae: 4.2788\n",
            "Epoch 15/100\n",
            "1/1 [==============================] - 0s 11ms/step - loss: 4.1373 - mae: 4.1373\n",
            "Epoch 16/100\n",
            "1/1 [==============================] - 0s 11ms/step - loss: 3.9928 - mae: 3.9928\n",
            "Epoch 17/100\n",
            "1/1 [==============================] - 0s 11ms/step - loss: 4.0246 - mae: 4.0246\n",
            "Epoch 18/100\n",
            "1/1 [==============================] - 0s 26ms/step - loss: 3.9122 - mae: 3.9122\n",
            "Epoch 19/100\n",
            "1/1 [==============================] - 0s 18ms/step - loss: 3.9520 - mae: 3.9520\n",
            "Epoch 20/100\n",
            "1/1 [==============================] - 0s 25ms/step - loss: 3.9156 - mae: 3.9156\n",
            "Epoch 21/100\n",
            "1/1 [==============================] - 0s 26ms/step - loss: 3.9263 - mae: 3.9263\n",
            "Epoch 22/100\n",
            "1/1 [==============================] - 0s 12ms/step - loss: 3.9232 - mae: 3.9232\n",
            "Epoch 23/100\n",
            "1/1 [==============================] - 0s 26ms/step - loss: 3.9003 - mae: 3.9003\n",
            "Epoch 24/100\n",
            "1/1 [==============================] - 0s 22ms/step - loss: 3.9310 - mae: 3.9310\n",
            "Epoch 25/100\n",
            "1/1 [==============================] - 0s 36ms/step - loss: 3.8762 - mae: 3.8762\n",
            "Epoch 26/100\n",
            "1/1 [==============================] - 0s 13ms/step - loss: 3.9459 - mae: 3.9459\n",
            "Epoch 27/100\n",
            "1/1 [==============================] - 0s 12ms/step - loss: 3.8766 - mae: 3.8766\n",
            "Epoch 28/100\n",
            "1/1 [==============================] - 0s 12ms/step - loss: 3.9309 - mae: 3.9309\n",
            "Epoch 29/100\n",
            "1/1 [==============================] - 0s 11ms/step - loss: 3.8843 - mae: 3.8843\n",
            "Epoch 30/100\n",
            "1/1 [==============================] - 0s 39ms/step - loss: 3.9048 - mae: 3.9048\n",
            "Epoch 31/100\n",
            "1/1 [==============================] - 0s 38ms/step - loss: 3.8921 - mae: 3.8921\n",
            "Epoch 32/100\n",
            "1/1 [==============================] - 0s 38ms/step - loss: 3.8787 - mae: 3.8787\n",
            "Epoch 33/100\n",
            "1/1 [==============================] - 0s 18ms/step - loss: 3.9001 - mae: 3.9001\n",
            "Epoch 34/100\n",
            "1/1 [==============================] - 0s 65ms/step - loss: 3.8585 - mae: 3.8585\n",
            "Epoch 35/100\n",
            "1/1 [==============================] - 0s 14ms/step - loss: 3.9152 - mae: 3.9152\n",
            "Epoch 36/100\n",
            "1/1 [==============================] - 0s 13ms/step - loss: 3.8463 - mae: 3.8463\n",
            "Epoch 37/100\n",
            "1/1 [==============================] - 0s 16ms/step - loss: 3.9084 - mae: 3.9084\n",
            "Epoch 38/100\n",
            "1/1 [==============================] - 0s 28ms/step - loss: 3.8542 - mae: 3.8542\n",
            "Epoch 39/100\n",
            "1/1 [==============================] - 0s 31ms/step - loss: 3.8822 - mae: 3.8822\n",
            "Epoch 40/100\n",
            "1/1 [==============================] - 0s 14ms/step - loss: 3.8622 - mae: 3.8622\n",
            "Epoch 41/100\n",
            "1/1 [==============================] - 0s 22ms/step - loss: 3.8557 - mae: 3.8557\n",
            "Epoch 42/100\n",
            "1/1 [==============================] - 0s 13ms/step - loss: 3.8735 - mae: 3.8735\n",
            "Epoch 43/100\n",
            "1/1 [==============================] - 0s 20ms/step - loss: 3.8356 - mae: 3.8356\n",
            "Epoch 44/100\n",
            "1/1 [==============================] - 0s 35ms/step - loss: 3.8857 - mae: 3.8857\n",
            "Epoch 45/100\n",
            "1/1 [==============================] - 0s 28ms/step - loss: 3.8171 - mae: 3.8171\n",
            "Epoch 46/100\n",
            "1/1 [==============================] - 0s 26ms/step - loss: 3.8848 - mae: 3.8848\n",
            "Epoch 47/100\n",
            "1/1 [==============================] - 0s 21ms/step - loss: 3.8252 - mae: 3.8252\n",
            "Epoch 48/100\n",
            "1/1 [==============================] - 0s 23ms/step - loss: 3.8582 - mae: 3.8582\n",
            "Epoch 49/100\n",
            "1/1 [==============================] - 0s 22ms/step - loss: 3.8335 - mae: 3.8335\n",
            "Epoch 50/100\n",
            "1/1 [==============================] - 0s 18ms/step - loss: 3.8321 - mae: 3.8321\n",
            "Epoch 51/100\n",
            "1/1 [==============================] - 0s 26ms/step - loss: 3.8488 - mae: 3.8488\n",
            "Epoch 52/100\n",
            "1/1 [==============================] - 0s 28ms/step - loss: 3.8111 - mae: 3.8111\n",
            "Epoch 53/100\n",
            "1/1 [==============================] - 0s 24ms/step - loss: 3.8573 - mae: 3.8573\n",
            "Epoch 54/100\n",
            "1/1 [==============================] - 0s 20ms/step - loss: 3.7890 - mae: 3.7890\n",
            "Epoch 55/100\n",
            "1/1 [==============================] - 0s 20ms/step - loss: 3.8598 - mae: 3.8598\n",
            "Epoch 56/100\n",
            "1/1 [==============================] - 0s 44ms/step - loss: 3.7973 - mae: 3.7973\n",
            "Epoch 57/100\n",
            "1/1 [==============================] - 0s 15ms/step - loss: 3.8330 - mae: 3.8330\n",
            "Epoch 58/100\n",
            "1/1 [==============================] - 0s 17ms/step - loss: 3.8058 - mae: 3.8058\n",
            "Epoch 59/100\n",
            "1/1 [==============================] - 0s 16ms/step - loss: 3.8104 - mae: 3.8104\n",
            "Epoch 60/100\n",
            "1/1 [==============================] - 0s 17ms/step - loss: 3.8213 - mae: 3.8213\n",
            "Epoch 61/100\n",
            "1/1 [==============================] - 0s 17ms/step - loss: 3.7853 - mae: 3.7853\n",
            "Epoch 62/100\n",
            "1/1 [==============================] - 0s 16ms/step - loss: 3.8299 - mae: 3.8299\n",
            "Epoch 63/100\n",
            "1/1 [==============================] - 0s 17ms/step - loss: 3.7620 - mae: 3.7620\n",
            "Epoch 64/100\n",
            "1/1 [==============================] - 0s 19ms/step - loss: 3.8336 - mae: 3.8336\n",
            "Epoch 65/100\n",
            "1/1 [==============================] - 0s 30ms/step - loss: 3.7705 - mae: 3.7705\n",
            "Epoch 66/100\n",
            "1/1 [==============================] - 0s 18ms/step - loss: 3.8065 - mae: 3.8065\n",
            "Epoch 67/100\n",
            "1/1 [==============================] - 0s 23ms/step - loss: 3.7801 - mae: 3.7801\n",
            "Epoch 68/100\n",
            "1/1 [==============================] - 0s 14ms/step - loss: 3.7856 - mae: 3.7856\n",
            "Epoch 69/100\n",
            "1/1 [==============================] - 0s 52ms/step - loss: 3.7949 - mae: 3.7949\n",
            "Epoch 70/100\n",
            "1/1 [==============================] - 0s 22ms/step - loss: 3.7581 - mae: 3.7581\n",
            "Epoch 71/100\n",
            "1/1 [==============================] - 0s 27ms/step - loss: 3.8037 - mae: 3.8037\n",
            "Epoch 72/100\n",
            "1/1 [==============================] - 0s 16ms/step - loss: 3.7360 - mae: 3.7360\n",
            "Epoch 73/100\n",
            "1/1 [==============================] - 0s 35ms/step - loss: 3.8061 - mae: 3.8061\n",
            "Epoch 74/100\n",
            "1/1 [==============================] - 0s 30ms/step - loss: 3.7447 - mae: 3.7447\n",
            "Epoch 75/100\n",
            "1/1 [==============================] - 0s 16ms/step - loss: 3.7787 - mae: 3.7787\n",
            "Epoch 76/100\n",
            "1/1 [==============================] - 0s 13ms/step - loss: 3.7580 - mae: 3.7580\n",
            "Epoch 77/100\n",
            "1/1 [==============================] - 0s 36ms/step - loss: 3.7574 - mae: 3.7574\n",
            "Epoch 78/100\n",
            "1/1 [==============================] - 0s 19ms/step - loss: 3.7695 - mae: 3.7695\n",
            "Epoch 79/100\n",
            "1/1 [==============================] - 0s 21ms/step - loss: 3.7298 - mae: 3.7298\n",
            "Epoch 80/100\n",
            "1/1 [==============================] - 0s 15ms/step - loss: 3.7784 - mae: 3.7784\n",
            "Epoch 81/100\n",
            "1/1 [==============================] - 0s 22ms/step - loss: 3.7109 - mae: 3.7109\n",
            "Epoch 82/100\n",
            "1/1 [==============================] - 0s 56ms/step - loss: 3.7775 - mae: 3.7775\n",
            "Epoch 83/100\n",
            "1/1 [==============================] - 0s 43ms/step - loss: 3.7198 - mae: 3.7198\n",
            "Epoch 84/100\n",
            "1/1 [==============================] - 0s 32ms/step - loss: 3.7512 - mae: 3.7512\n",
            "Epoch 85/100\n",
            "1/1 [==============================] - 0s 33ms/step - loss: 3.7358 - mae: 3.7358\n",
            "Epoch 86/100\n",
            "1/1 [==============================] - 0s 43ms/step - loss: 3.7283 - mae: 3.7283\n",
            "Epoch 87/100\n",
            "1/1 [==============================] - 0s 29ms/step - loss: 3.7448 - mae: 3.7448\n",
            "Epoch 88/100\n",
            "1/1 [==============================] - 0s 34ms/step - loss: 3.7003 - mae: 3.7003\n",
            "Epoch 89/100\n",
            "1/1 [==============================] - 0s 26ms/step - loss: 3.7540 - mae: 3.7540\n",
            "Epoch 90/100\n",
            "1/1 [==============================] - 0s 32ms/step - loss: 3.6867 - mae: 3.6867\n",
            "Epoch 91/100\n",
            "1/1 [==============================] - 0s 17ms/step - loss: 3.7478 - mae: 3.7478\n",
            "Epoch 92/100\n",
            "1/1 [==============================] - 0s 18ms/step - loss: 3.6958 - mae: 3.6958\n",
            "Epoch 93/100\n",
            "1/1 [==============================] - 0s 18ms/step - loss: 3.7243 - mae: 3.7243\n",
            "Epoch 94/100\n",
            "1/1 [==============================] - 0s 26ms/step - loss: 3.7119 - mae: 3.7119\n",
            "Epoch 95/100\n",
            "1/1 [==============================] - 0s 33ms/step - loss: 3.6978 - mae: 3.6978\n",
            "Epoch 96/100\n",
            "1/1 [==============================] - 0s 24ms/step - loss: 3.7213 - mae: 3.7213\n",
            "Epoch 97/100\n",
            "1/1 [==============================] - 0s 23ms/step - loss: 3.6694 - mae: 3.6694\n",
            "Epoch 98/100\n",
            "1/1 [==============================] - 0s 42ms/step - loss: 3.7306 - mae: 3.7306\n",
            "Epoch 99/100\n",
            "1/1 [==============================] - 0s 31ms/step - loss: 3.6635 - mae: 3.6635\n",
            "Epoch 100/100\n",
            "1/1 [==============================] - 0s 36ms/step - loss: 3.7166 - mae: 3.7166\n"
          ]
        },
        {
          "output_type": "execute_result",
          "data": {
            "text/plain": [
              "<keras.callbacks.History at 0x7f1dedb3f820>"
            ]
          },
          "metadata": {},
          "execution_count": 59
        }
      ]
    },
    {
      "cell_type": "code",
      "source": [
        "model.predict([17.0])"
      ],
      "metadata": {
        "colab": {
          "base_uri": "https://localhost:8080/"
        },
        "id": "UI8aFX44Dbxm",
        "outputId": "270635eb-e4e4-4906-88ed-334e9416b8d1"
      },
      "execution_count": 60,
      "outputs": [
        {
          "output_type": "stream",
          "name": "stdout",
          "text": [
            "1/1 [==============================] - 0s 120ms/step\n"
          ]
        },
        {
          "output_type": "execute_result",
          "data": {
            "text/plain": [
              "array([[32.265724]], dtype=float32)"
            ]
          },
          "metadata": {},
          "execution_count": 60
        }
      ]
    },
    {
      "cell_type": "code",
      "source": [
        "#Set Random Seeds\n",
        "\n",
        "tf.random.set_seed(42)\n",
        "\n",
        "#Model\n",
        "\n",
        "model = tf.keras.Sequential([\n",
        "    tf.keras.layers.Dense(50, activation =None),\n",
        "    tf.keras.layers.Dense(1)\n",
        "])\n",
        "\n",
        "#Compile\n",
        "\n",
        "model.compile(loss=tf.keras.losses.mae,\n",
        "              optimizer=tf.keras.optimizers.Adam(lr=0.01),\n",
        "              metrics=[\"mae\"])\n",
        "\n",
        "model.fit(tf.expand_dims(X, axis=-1), y, epochs=100)\n"
      ],
      "metadata": {
        "colab": {
          "base_uri": "https://localhost:8080/"
        },
        "id": "XOHIjgQ9DjNo",
        "outputId": "b150af6b-d69b-4ecd-89e7-07be490f7859"
      },
      "execution_count": 61,
      "outputs": [
        {
          "output_type": "stream",
          "name": "stderr",
          "text": [
            "WARNING:absl:`lr` is deprecated in Keras optimizer, please use `learning_rate` or use the legacy optimizer, e.g.,tf.keras.optimizers.legacy.Adam.\n"
          ]
        },
        {
          "output_type": "stream",
          "name": "stdout",
          "text": [
            "Epoch 1/100\n",
            "1/1 [==============================] - 3s 3s/step - loss: 13.1564 - mae: 13.1564\n",
            "Epoch 2/100\n",
            "1/1 [==============================] - 0s 20ms/step - loss: 13.0853 - mae: 13.0853\n",
            "Epoch 3/100\n",
            "1/1 [==============================] - 0s 25ms/step - loss: 13.0141 - mae: 13.0141\n",
            "Epoch 4/100\n",
            "1/1 [==============================] - 0s 27ms/step - loss: 12.9430 - mae: 12.9430\n",
            "Epoch 5/100\n",
            "1/1 [==============================] - 0s 26ms/step - loss: 12.8719 - mae: 12.8719\n",
            "Epoch 6/100\n",
            "1/1 [==============================] - 0s 42ms/step - loss: 12.8008 - mae: 12.8008\n",
            "Epoch 7/100\n",
            "1/1 [==============================] - 0s 28ms/step - loss: 12.7297 - mae: 12.7297\n",
            "Epoch 8/100\n",
            "1/1 [==============================] - 0s 34ms/step - loss: 12.6585 - mae: 12.6585\n",
            "Epoch 9/100\n",
            "1/1 [==============================] - 0s 27ms/step - loss: 12.5873 - mae: 12.5873\n",
            "Epoch 10/100\n",
            "1/1 [==============================] - 0s 20ms/step - loss: 12.5161 - mae: 12.5161\n",
            "Epoch 11/100\n",
            "1/1 [==============================] - 0s 29ms/step - loss: 12.4449 - mae: 12.4449\n",
            "Epoch 12/100\n",
            "1/1 [==============================] - 0s 32ms/step - loss: 12.3736 - mae: 12.3736\n",
            "Epoch 13/100\n",
            "1/1 [==============================] - 0s 34ms/step - loss: 12.3023 - mae: 12.3023\n",
            "Epoch 14/100\n",
            "1/1 [==============================] - 0s 20ms/step - loss: 12.2309 - mae: 12.2309\n",
            "Epoch 15/100\n",
            "1/1 [==============================] - 0s 28ms/step - loss: 12.1595 - mae: 12.1595\n",
            "Epoch 16/100\n",
            "1/1 [==============================] - 0s 30ms/step - loss: 12.0880 - mae: 12.0880\n",
            "Epoch 17/100\n",
            "1/1 [==============================] - 0s 23ms/step - loss: 12.0164 - mae: 12.0164\n",
            "Epoch 18/100\n",
            "1/1 [==============================] - 0s 46ms/step - loss: 11.9447 - mae: 11.9447\n",
            "Epoch 19/100\n",
            "1/1 [==============================] - 0s 24ms/step - loss: 11.8729 - mae: 11.8729\n",
            "Epoch 20/100\n",
            "1/1 [==============================] - 0s 28ms/step - loss: 11.8010 - mae: 11.8010\n",
            "Epoch 21/100\n",
            "1/1 [==============================] - 0s 41ms/step - loss: 11.7290 - mae: 11.7290\n",
            "Epoch 22/100\n",
            "1/1 [==============================] - 0s 21ms/step - loss: 11.6568 - mae: 11.6568\n",
            "Epoch 23/100\n",
            "1/1 [==============================] - 0s 43ms/step - loss: 11.5846 - mae: 11.5846\n",
            "Epoch 24/100\n",
            "1/1 [==============================] - 0s 53ms/step - loss: 11.5122 - mae: 11.5122\n",
            "Epoch 25/100\n",
            "1/1 [==============================] - 0s 42ms/step - loss: 11.4396 - mae: 11.4396\n",
            "Epoch 26/100\n",
            "1/1 [==============================] - 0s 34ms/step - loss: 11.3669 - mae: 11.3669\n",
            "Epoch 27/100\n",
            "1/1 [==============================] - 0s 19ms/step - loss: 11.2940 - mae: 11.2940\n",
            "Epoch 28/100\n",
            "1/1 [==============================] - 0s 19ms/step - loss: 11.2210 - mae: 11.2210\n",
            "Epoch 29/100\n",
            "1/1 [==============================] - 0s 48ms/step - loss: 11.1478 - mae: 11.1478\n",
            "Epoch 30/100\n",
            "1/1 [==============================] - 0s 31ms/step - loss: 11.0744 - mae: 11.0744\n",
            "Epoch 31/100\n",
            "1/1 [==============================] - 0s 21ms/step - loss: 11.0008 - mae: 11.0008\n",
            "Epoch 32/100\n",
            "1/1 [==============================] - 0s 34ms/step - loss: 10.9270 - mae: 10.9270\n",
            "Epoch 33/100\n",
            "1/1 [==============================] - 0s 25ms/step - loss: 10.8531 - mae: 10.8531\n",
            "Epoch 34/100\n",
            "1/1 [==============================] - 0s 25ms/step - loss: 10.7789 - mae: 10.7789\n",
            "Epoch 35/100\n",
            "1/1 [==============================] - 0s 31ms/step - loss: 10.7045 - mae: 10.7045\n",
            "Epoch 36/100\n",
            "1/1 [==============================] - 0s 22ms/step - loss: 10.6299 - mae: 10.6299\n",
            "Epoch 37/100\n",
            "1/1 [==============================] - 0s 23ms/step - loss: 10.5550 - mae: 10.5550\n",
            "Epoch 38/100\n",
            "1/1 [==============================] - 0s 32ms/step - loss: 10.4799 - mae: 10.4799\n",
            "Epoch 39/100\n",
            "1/1 [==============================] - 0s 24ms/step - loss: 10.4046 - mae: 10.4046\n",
            "Epoch 40/100\n",
            "1/1 [==============================] - 0s 24ms/step - loss: 10.3291 - mae: 10.3291\n",
            "Epoch 41/100\n",
            "1/1 [==============================] - 0s 18ms/step - loss: 10.2533 - mae: 10.2533\n",
            "Epoch 42/100\n",
            "1/1 [==============================] - 0s 17ms/step - loss: 10.1772 - mae: 10.1772\n",
            "Epoch 43/100\n",
            "1/1 [==============================] - 0s 17ms/step - loss: 10.1008 - mae: 10.1008\n",
            "Epoch 44/100\n",
            "1/1 [==============================] - 0s 20ms/step - loss: 10.0242 - mae: 10.0242\n",
            "Epoch 45/100\n",
            "1/1 [==============================] - 0s 38ms/step - loss: 9.9473 - mae: 9.9473\n",
            "Epoch 46/100\n",
            "1/1 [==============================] - 0s 32ms/step - loss: 9.8701 - mae: 9.8701\n",
            "Epoch 47/100\n",
            "1/1 [==============================] - 0s 25ms/step - loss: 9.7927 - mae: 9.7927\n",
            "Epoch 48/100\n",
            "1/1 [==============================] - 0s 22ms/step - loss: 9.7149 - mae: 9.7149\n",
            "Epoch 49/100\n",
            "1/1 [==============================] - 0s 23ms/step - loss: 9.6368 - mae: 9.6368\n",
            "Epoch 50/100\n",
            "1/1 [==============================] - 0s 29ms/step - loss: 9.5584 - mae: 9.5584\n",
            "Epoch 51/100\n",
            "1/1 [==============================] - 0s 15ms/step - loss: 9.4797 - mae: 9.4797\n",
            "Epoch 52/100\n",
            "1/1 [==============================] - 0s 17ms/step - loss: 9.4007 - mae: 9.4007\n",
            "Epoch 53/100\n",
            "1/1 [==============================] - 0s 20ms/step - loss: 9.3214 - mae: 9.3214\n",
            "Epoch 54/100\n",
            "1/1 [==============================] - 0s 16ms/step - loss: 9.2417 - mae: 9.2417\n",
            "Epoch 55/100\n",
            "1/1 [==============================] - 0s 17ms/step - loss: 9.1616 - mae: 9.1616\n",
            "Epoch 56/100\n",
            "1/1 [==============================] - 0s 20ms/step - loss: 9.0813 - mae: 9.0813\n",
            "Epoch 57/100\n",
            "1/1 [==============================] - 0s 20ms/step - loss: 9.0005 - mae: 9.0005\n",
            "Epoch 58/100\n",
            "1/1 [==============================] - 0s 29ms/step - loss: 8.9195 - mae: 8.9195\n",
            "Epoch 59/100\n",
            "1/1 [==============================] - 0s 18ms/step - loss: 8.8380 - mae: 8.8380\n",
            "Epoch 60/100\n",
            "1/1 [==============================] - 0s 21ms/step - loss: 8.7562 - mae: 8.7562\n",
            "Epoch 61/100\n",
            "1/1 [==============================] - 0s 22ms/step - loss: 8.6740 - mae: 8.6740\n",
            "Epoch 62/100\n",
            "1/1 [==============================] - 0s 20ms/step - loss: 8.5914 - mae: 8.5914\n",
            "Epoch 63/100\n",
            "1/1 [==============================] - 0s 23ms/step - loss: 8.5085 - mae: 8.5085\n",
            "Epoch 64/100\n",
            "1/1 [==============================] - 0s 17ms/step - loss: 8.4251 - mae: 8.4251\n",
            "Epoch 65/100\n",
            "1/1 [==============================] - 0s 16ms/step - loss: 8.3414 - mae: 8.3414\n",
            "Epoch 66/100\n",
            "1/1 [==============================] - 0s 13ms/step - loss: 8.2572 - mae: 8.2572\n",
            "Epoch 67/100\n",
            "1/1 [==============================] - 0s 24ms/step - loss: 8.1727 - mae: 8.1727\n",
            "Epoch 68/100\n",
            "1/1 [==============================] - 0s 21ms/step - loss: 8.0877 - mae: 8.0877\n",
            "Epoch 69/100\n",
            "1/1 [==============================] - 0s 23ms/step - loss: 8.0023 - mae: 8.0023\n",
            "Epoch 70/100\n",
            "1/1 [==============================] - 0s 19ms/step - loss: 7.9165 - mae: 7.9165\n",
            "Epoch 71/100\n",
            "1/1 [==============================] - 0s 17ms/step - loss: 7.8302 - mae: 7.8302\n",
            "Epoch 72/100\n",
            "1/1 [==============================] - 0s 18ms/step - loss: 7.7435 - mae: 7.7435\n",
            "Epoch 73/100\n",
            "1/1 [==============================] - 0s 19ms/step - loss: 7.6564 - mae: 7.6564\n",
            "Epoch 74/100\n",
            "1/1 [==============================] - 0s 17ms/step - loss: 7.5688 - mae: 7.5688\n",
            "Epoch 75/100\n",
            "1/1 [==============================] - 0s 20ms/step - loss: 7.4807 - mae: 7.4807\n",
            "Epoch 76/100\n",
            "1/1 [==============================] - 0s 21ms/step - loss: 7.3922 - mae: 7.3922\n",
            "Epoch 77/100\n",
            "1/1 [==============================] - 0s 17ms/step - loss: 7.3032 - mae: 7.3032\n",
            "Epoch 78/100\n",
            "1/1 [==============================] - 0s 17ms/step - loss: 7.2138 - mae: 7.2138\n",
            "Epoch 79/100\n",
            "1/1 [==============================] - 0s 17ms/step - loss: 7.1239 - mae: 7.1239\n",
            "Epoch 80/100\n",
            "1/1 [==============================] - 0s 17ms/step - loss: 7.0335 - mae: 7.0335\n",
            "Epoch 81/100\n",
            "1/1 [==============================] - 0s 21ms/step - loss: 6.9426 - mae: 6.9426\n",
            "Epoch 82/100\n",
            "1/1 [==============================] - 0s 23ms/step - loss: 6.8512 - mae: 6.8512\n",
            "Epoch 83/100\n",
            "1/1 [==============================] - 0s 19ms/step - loss: 6.8222 - mae: 6.8222\n",
            "Epoch 84/100\n",
            "1/1 [==============================] - 0s 20ms/step - loss: 6.8118 - mae: 6.8118\n",
            "Epoch 85/100\n",
            "1/1 [==============================] - 0s 24ms/step - loss: 6.8016 - mae: 6.8016\n",
            "Epoch 86/100\n",
            "1/1 [==============================] - 0s 60ms/step - loss: 6.7917 - mae: 6.7917\n",
            "Epoch 87/100\n",
            "1/1 [==============================] - 0s 25ms/step - loss: 6.7819 - mae: 6.7819\n",
            "Epoch 88/100\n",
            "1/1 [==============================] - 0s 20ms/step - loss: 6.7723 - mae: 6.7723\n",
            "Epoch 89/100\n",
            "1/1 [==============================] - 0s 45ms/step - loss: 6.7629 - mae: 6.7629\n",
            "Epoch 90/100\n",
            "1/1 [==============================] - 0s 30ms/step - loss: 6.7536 - mae: 6.7536\n",
            "Epoch 91/100\n",
            "1/1 [==============================] - 0s 17ms/step - loss: 6.7444 - mae: 6.7444\n",
            "Epoch 92/100\n",
            "1/1 [==============================] - 0s 33ms/step - loss: 6.7354 - mae: 6.7354\n",
            "Epoch 93/100\n",
            "1/1 [==============================] - 0s 19ms/step - loss: 6.7264 - mae: 6.7264\n",
            "Epoch 94/100\n",
            "1/1 [==============================] - 0s 19ms/step - loss: 6.7175 - mae: 6.7175\n",
            "Epoch 95/100\n",
            "1/1 [==============================] - 0s 20ms/step - loss: 6.7302 - mae: 6.7302\n",
            "Epoch 96/100\n",
            "1/1 [==============================] - 0s 37ms/step - loss: 6.7374 - mae: 6.7374\n",
            "Epoch 97/100\n",
            "1/1 [==============================] - 0s 25ms/step - loss: 6.7383 - mae: 6.7383\n",
            "Epoch 98/100\n",
            "1/1 [==============================] - 0s 16ms/step - loss: 6.7335 - mae: 6.7335\n",
            "Epoch 99/100\n",
            "1/1 [==============================] - 0s 15ms/step - loss: 6.7235 - mae: 6.7235\n",
            "Epoch 100/100\n",
            "1/1 [==============================] - 0s 18ms/step - loss: 6.7088 - mae: 6.7088\n"
          ]
        },
        {
          "output_type": "execute_result",
          "data": {
            "text/plain": [
              "<keras.callbacks.History at 0x7f1deda20760>"
            ]
          },
          "metadata": {},
          "execution_count": 61
        }
      ]
    },
    {
      "cell_type": "code",
      "source": [
        "model.predict([17.0])"
      ],
      "metadata": {
        "colab": {
          "base_uri": "https://localhost:8080/"
        },
        "id": "G-dGmSVsEKlK",
        "outputId": "8c529e70-4325-41d0-f118-3afc034f70b3"
      },
      "execution_count": 62,
      "outputs": [
        {
          "output_type": "stream",
          "name": "stdout",
          "text": [
            "1/1 [==============================] - 0s 194ms/step\n"
          ]
        },
        {
          "output_type": "execute_result",
          "data": {
            "text/plain": [
              "array([[32.00331]], dtype=float32)"
            ]
          },
          "metadata": {},
          "execution_count": 62
        }
      ]
    },
    {
      "cell_type": "code",
      "source": [
        "27-31"
      ],
      "metadata": {
        "colab": {
          "base_uri": "https://localhost:8080/"
        },
        "id": "4zER2KKZE5Sh",
        "outputId": "6c2c35b1-b00b-4f89-d559-41ebbf2c4617"
      },
      "execution_count": 63,
      "outputs": [
        {
          "output_type": "execute_result",
          "data": {
            "text/plain": [
              "-4"
            ]
          },
          "metadata": {},
          "execution_count": 63
        }
      ]
    },
    {
      "cell_type": "code",
      "source": [
        "# Make A bigger Dataset\n",
        "\n",
        "X = tf.range(-100,100,4)"
      ],
      "metadata": {
        "id": "XJ7AxX4gE--w"
      },
      "execution_count": 64,
      "outputs": []
    },
    {
      "cell_type": "code",
      "source": [
        "X"
      ],
      "metadata": {
        "colab": {
          "base_uri": "https://localhost:8080/"
        },
        "id": "1mHx3FxNFJt8",
        "outputId": "0c0b7457-4e3c-4d17-c27d-229aa7d457d5"
      },
      "execution_count": 65,
      "outputs": [
        {
          "output_type": "execute_result",
          "data": {
            "text/plain": [
              "<tf.Tensor: shape=(50,), dtype=int32, numpy=\n",
              "array([-100,  -96,  -92,  -88,  -84,  -80,  -76,  -72,  -68,  -64,  -60,\n",
              "        -56,  -52,  -48,  -44,  -40,  -36,  -32,  -28,  -24,  -20,  -16,\n",
              "        -12,   -8,   -4,    0,    4,    8,   12,   16,   20,   24,   28,\n",
              "         32,   36,   40,   44,   48,   52,   56,   60,   64,   68,   72,\n",
              "         76,   80,   84,   88,   92,   96], dtype=int32)>"
            ]
          },
          "metadata": {},
          "execution_count": 65
        }
      ]
    },
    {
      "cell_type": "code",
      "source": [
        "y = X+10"
      ],
      "metadata": {
        "id": "ZZPyf_W9FKL8"
      },
      "execution_count": 66,
      "outputs": []
    },
    {
      "cell_type": "code",
      "source": [
        "y"
      ],
      "metadata": {
        "colab": {
          "base_uri": "https://localhost:8080/"
        },
        "id": "Xxm_MZ_BFM-f",
        "outputId": "c0614084-a4f5-48f1-9650-8890d162a2bc"
      },
      "execution_count": 67,
      "outputs": [
        {
          "output_type": "execute_result",
          "data": {
            "text/plain": [
              "<tf.Tensor: shape=(50,), dtype=int32, numpy=\n",
              "array([-90, -86, -82, -78, -74, -70, -66, -62, -58, -54, -50, -46, -42,\n",
              "       -38, -34, -30, -26, -22, -18, -14, -10,  -6,  -2,   2,   6,  10,\n",
              "        14,  18,  22,  26,  30,  34,  38,  42,  46,  50,  54,  58,  62,\n",
              "        66,  70,  74,  78,  82,  86,  90,  94,  98, 102, 106], dtype=int32)>"
            ]
          },
          "metadata": {},
          "execution_count": 67
        }
      ]
    },
    {
      "cell_type": "code",
      "source": [
        "plt.plot(X, y)"
      ],
      "metadata": {
        "colab": {
          "base_uri": "https://localhost:8080/",
          "height": 447
        },
        "id": "4KvDMNP9FNaT",
        "outputId": "213c2347-db0e-425a-fb2a-10993fce77e6"
      },
      "execution_count": 68,
      "outputs": [
        {
          "output_type": "execute_result",
          "data": {
            "text/plain": [
              "[<matplotlib.lines.Line2D at 0x7f1ded9221d0>]"
            ]
          },
          "metadata": {},
          "execution_count": 68
        },
        {
          "output_type": "display_data",
          "data": {
            "text/plain": [
              "<Figure size 640x480 with 1 Axes>"
            ],
            "image/png": "[encoded data removed]"
          },
          "metadata": {}
        }
      ]
    },
    {
      "cell_type": "code",
      "source": [
        "plt.scatter(X,y)"
      ],
      "metadata": {
        "colab": {
          "base_uri": "https://localhost:8080/",
          "height": 447
        },
        "id": "fj-Lc4aMNCTb",
        "outputId": "a2ee0d8f-5cb3-4f8b-e75d-91ed16ed9561"
      },
      "execution_count": 69,
      "outputs": [
        {
          "output_type": "execute_result",
          "data": {
            "text/plain": [
              "<matplotlib.collections.PathCollection at 0x7f1dee4dc1c0>"
            ]
          },
          "metadata": {},
          "execution_count": 69
        },
        {
          "output_type": "display_data",
          "data": {
            "text/plain": [
              "<Figure size 640x480 with 1 Axes>"
            ],
            "image/png": "[encoded data removed]"
          },
          "metadata": {}
        }
      ]
    },
    {
      "cell_type": "code",
      "source": [
        "len(X), len(y)"
      ],
      "metadata": {
        "colab": {
          "base_uri": "https://localhost:8080/"
        },
        "id": "6jHm8r-ENGdi",
        "outputId": "dfcce833-cdf6-4f79-b8b7-7e49c473d210"
      },
      "execution_count": 70,
      "outputs": [
        {
          "output_type": "execute_result",
          "data": {
            "text/plain": [
              "(50, 50)"
            ]
          },
          "metadata": {},
          "execution_count": 70
        }
      ]
    },
    {
      "cell_type": "code",
      "source": [
        "X_train = X[:40]\n",
        "y_train = y[:40]\n",
        "\n",
        "X_test = X[40:]\n",
        "y_test = y[40:]"
      ],
      "metadata": {
        "id": "z4AKCmXNZMe7"
      },
      "execution_count": 71,
      "outputs": []
    },
    {
      "cell_type": "code",
      "source": [
        "len(X_train), len(X_test)"
      ],
      "metadata": {
        "colab": {
          "base_uri": "https://localhost:8080/"
        },
        "id": "bx8t5rJOZ0ix",
        "outputId": "c98494a3-0579-464e-d019-0eb98e9c91c4"
      },
      "execution_count": 72,
      "outputs": [
        {
          "output_type": "execute_result",
          "data": {
            "text/plain": [
              "(40, 10)"
            ]
          },
          "metadata": {},
          "execution_count": 72
        }
      ]
    },
    {
      "cell_type": "code",
      "source": [
        "plt.figure(figsize=(10,6))\n",
        "\n",
        "plt.scatter(X_train, y_train, c='b', label=\"Training_Set\")\n",
        "\n",
        "plt.scatter(X_test, y_test, c='g', label=\"Testing_Set\")"
      ],
      "metadata": {
        "colab": {
          "base_uri": "https://localhost:8080/",
          "height": 539
        },
        "id": "twpC5t1PZ4zu",
        "outputId": "fdd856a4-1d7c-45a9-87e1-a50f7d8c79af"
      },
      "execution_count": 73,
      "outputs": [
        {
          "output_type": "execute_result",
          "data": {
            "text/plain": [
              "<matplotlib.collections.PathCollection at 0x7f1ded39c970>"
            ]
          },
          "metadata": {},
          "execution_count": 73
        },
        {
          "output_type": "display_data",
          "data": {
            "text/plain": [
              "<Figure size 1000x600 with 1 Axes>"
            ],
            "image/png": "[encoded data removed]"
          },
          "metadata": {}
        }
      ]
    },
    {
      "cell_type": "code",
      "source": [
        "X_train.shape"
      ],
      "metadata": {
        "colab": {
          "base_uri": "https://localhost:8080/"
        },
        "id": "gaI-RTJqbiSg",
        "outputId": "650d6126-20ef-4512-d08c-4800f3d46678"
      },
      "execution_count": 74,
      "outputs": [
        {
          "output_type": "execute_result",
          "data": {
            "text/plain": [
              "TensorShape([40])"
            ]
          },
          "metadata": {},
          "execution_count": 74
        }
      ]
    },
    {
      "cell_type": "code",
      "source": [
        "# Set random seed\n",
        "tf.random.set_seed(42)\n",
        "\n",
        "# Create a model (same as above)\n",
        "model = tf.keras.Sequential([\n",
        "  tf.keras.layers.Dense(1, input_shape=[1]) # define the input_shape to our model\n",
        "])\n",
        "\n",
        "# Compile model (same as above)\n",
        "model.compile(loss=tf.keras.losses.mae,\n",
        "              optimizer=tf.keras.optimizers.SGD(),\n",
        "              metrics=[\"mae\"])"
      ],
      "metadata": {
        "id": "DPCEYnCnabUP"
      },
      "execution_count": 75,
      "outputs": []
    },
    {
      "cell_type": "code",
      "source": [
        "model.summary()"
      ],
      "metadata": {
        "colab": {
          "base_uri": "https://localhost:8080/"
        },
        "id": "IsxVJDsca9QP",
        "outputId": "942b6d76-6f05-483d-cdc7-14b4c9caf874"
      },
      "execution_count": 76,
      "outputs": [
        {
          "output_type": "stream",
          "name": "stdout",
          "text": [
            "Model: \"sequential_9\"\n",
            "_________________________________________________________________\n",
            " Layer (type)                Output Shape              Param #   \n",
            "=================================================================\n",
            " dense_13 (Dense)            (None, 1)                 2         \n",
            "                                                                 \n",
            "=================================================================\n",
            "Total params: 2\n",
            "Trainable params: 2\n",
            "Non-trainable params: 0\n",
            "_________________________________________________________________\n"
          ]
        }
      ]
    },
    {
      "cell_type": "code",
      "source": [
        "model.fit(X_train, y_train, epochs=100, verbose=0)"
      ],
      "metadata": {
        "colab": {
          "base_uri": "https://localhost:8080/"
        },
        "id": "w8IauYAZbDLJ",
        "outputId": "dfa772d9-4423-4c84-e8e8-7af1900a096e"
      },
      "execution_count": 77,
      "outputs": [
        {
          "output_type": "execute_result",
          "data": {
            "text/plain": [
              "<keras.callbacks.History at 0x7f1deda0f340>"
            ]
          },
          "metadata": {},
          "execution_count": 77
        }
      ]
    },
    {
      "cell_type": "code",
      "source": [
        "model.summary()"
      ],
      "metadata": {
        "colab": {
          "base_uri": "https://localhost:8080/"
        },
        "id": "3gh8OTqbb8kf",
        "outputId": "1305413e-656f-4225-898a-a4a597cda8ec"
      },
      "execution_count": 78,
      "outputs": [
        {
          "output_type": "stream",
          "name": "stdout",
          "text": [
            "Model: \"sequential_9\"\n",
            "_________________________________________________________________\n",
            " Layer (type)                Output Shape              Param #   \n",
            "=================================================================\n",
            " dense_13 (Dense)            (None, 1)                 2         \n",
            "                                                                 \n",
            "=================================================================\n",
            "Total params: 2\n",
            "Trainable params: 2\n",
            "Non-trainable params: 0\n",
            "_________________________________________________________________\n"
          ]
        }
      ]
    },
    {
      "cell_type": "code",
      "source": [
        "from tensorflow.keras.utils import plot_model\n",
        "\n",
        "plot_model(model, show_shapes=True)"
      ],
      "metadata": {
        "colab": {
          "base_uri": "https://localhost:8080/",
          "height": 201
        },
        "id": "dJjt_bVXcI5L",
        "outputId": "5c432a20-872f-46d0-e315-009715e6a368"
      },
      "execution_count": 79,
      "outputs": [
        {
          "output_type": "execute_result",
          "data": {
            "image/png": "[encoded data removed]",
            "text/plain": [
              "<IPython.core.display.Image object>"
            ]
          },
          "metadata": {},
          "execution_count": 79
        }
      ]
    },
    {
      "cell_type": "code",
      "source": [
        "#Predictions\n",
        "\n",
        "y_pread = model.predict(X_test)\n",
        "y_pread"
      ],
      "metadata": {
        "colab": {
          "base_uri": "https://localhost:8080/"
        },
        "id": "AHH9hp3udaCs",
        "outputId": "a8fbe2ed-ec7a-4b42-f792-fd9bd0ba835f"
      },
      "execution_count": 80,
      "outputs": [
        {
          "output_type": "stream",
          "name": "stdout",
          "text": [
            "1/1 [==============================] - 0s 288ms/step\n"
          ]
        },
        {
          "output_type": "execute_result",
          "data": {
            "text/plain": [
              "array([[ 74.53805 ],\n",
              "       [ 79.42338 ],\n",
              "       [ 84.30871 ],\n",
              "       [ 89.19404 ],\n",
              "       [ 94.07936 ],\n",
              "       [ 98.96469 ],\n",
              "       [103.85002 ],\n",
              "       [108.735344],\n",
              "       [113.620674],\n",
              "       [118.506004]], dtype=float32)"
            ]
          },
          "metadata": {},
          "execution_count": 80
        }
      ]
    },
    {
      "cell_type": "code",
      "source": [
        "# Plotting the prediction\n",
        "\n",
        "def plot_predictions (train_data = X_train,\n",
        "                      train_label = y_train,\n",
        "                      test_data = X_test,\n",
        "                      test_label = y_test,\n",
        "                      predictions = y_pread):\n",
        "  \"\"\"Plotting train, text and predictions\"\"\"\n",
        "\n",
        "  plt.figure(figsize=(10,7))\n",
        "\n",
        "  plt.scatter(train_data, train_label, c='b', label = \"Training sets\")\n",
        "  plt.scatter(test_data, test_label, c='g', label = \"Testing sets\")\n",
        "  plt.scatter(test_data, predictions, c='y', label = \"predictions\")\n",
        "\n",
        "  plt.legend();"
      ],
      "metadata": {
        "id": "k3dkiihLeS5h"
      },
      "execution_count": 82,
      "outputs": []
    },
    {
      "cell_type": "code",
      "source": [
        "plot_predictions()"
      ],
      "metadata": {
        "colab": {
          "base_uri": "https://localhost:8080/",
          "height": 599
        },
        "id": "mgmRIJ4l2bZ2",
        "outputId": "443b18d0-9843-4f3f-b0d6-0fb125368dc3"
      },
      "execution_count": 83,
      "outputs": [
        {
          "output_type": "display_data",
          "data": {
            "text/plain": [
              "<Figure size 1000x700 with 1 Axes>"
            ],
            "image/png": "[encoded data removed]"
          },
          "metadata": {}
        }
      ]
    },
    {
      "cell_type": "code",
      "source": [
        "# Calculate MAE\n",
        "\n",
        "mae = tf.metrics.mean_absolute_error(y_true = y_test, y_pred = y_pread)\n",
        "\n",
        "mae"
      ],
      "metadata": {
        "colab": {
          "base_uri": "https://localhost:8080/"
        },
        "id": "KduvwFh42f9g",
        "outputId": "fb754e90-e9b1-4e2f-e03a-b79e39da6c3c"
      },
      "execution_count": 85,
      "outputs": [
        {
          "output_type": "execute_result",
          "data": {
            "text/plain": [
              "<tf.Tensor: shape=(10,), dtype=float32, numpy=\n",
              "array([14.477171, 11.830648, 10.338259, 10.      , 10.831744, 12.978815,\n",
              "       16.280018, 20.735344, 25.620672, 30.506006], dtype=float32)>"
            ]
          },
          "metadata": {},
          "execution_count": 85
        }
      ]
    },
    {
      "cell_type": "code",
      "source": [
        "y_test.shape, y_pread.shape"
      ],
      "metadata": {
        "colab": {
          "base_uri": "https://localhost:8080/"
        },
        "id": "p253D9aR3n56",
        "outputId": "a5b0e6d5-eda6-4734-8039-97d819e3425b"
      },
      "execution_count": 86,
      "outputs": [
        {
          "output_type": "execute_result",
          "data": {
            "text/plain": [
              "(TensorShape([10]), (10, 1))"
            ]
          },
          "metadata": {},
          "execution_count": 86
        }
      ]
    },
    {
      "cell_type": "code",
      "source": [
        "# Sqeez Shapes\n",
        "\n",
        "y_pread.squeeze().shape"
      ],
      "metadata": {
        "colab": {
          "base_uri": "https://localhost:8080/"
        },
        "id": "qlmrOA5J3xgM",
        "outputId": "b9ae26e3-a48a-46f7-aa42-1cf6e7033c69"
      },
      "execution_count": 87,
      "outputs": [
        {
          "output_type": "execute_result",
          "data": {
            "text/plain": [
              "(10,)"
            ]
          },
          "metadata": {},
          "execution_count": 87
        }
      ]
    },
    {
      "cell_type": "code",
      "source": [
        "y_test, y_pread.squeeze()"
      ],
      "metadata": {
        "colab": {
          "base_uri": "https://localhost:8080/"
        },
        "id": "AZiuMBk_4D-Y",
        "outputId": "098f2941-82dc-44f5-f53e-6d6ebd4f7a00"
      },
      "execution_count": 88,
      "outputs": [
        {
          "output_type": "execute_result",
          "data": {
            "text/plain": [
              "(<tf.Tensor: shape=(10,), dtype=int32, numpy=array([ 70,  74,  78,  82,  86,  90,  94,  98, 102, 106], dtype=int32)>,\n",
              " array([ 74.53805 ,  79.42338 ,  84.30871 ,  89.19404 ,  94.07936 ,\n",
              "         98.96469 , 103.85002 , 108.735344, 113.620674, 118.506004],\n",
              "       dtype=float32))"
            ]
          },
          "metadata": {},
          "execution_count": 88
        }
      ]
    },
    {
      "cell_type": "code",
      "source": [
        "mae = tf.metrics.mean_absolute_error(y_true = y_test, y_pred = y_pread.squeeze())\n",
        "\n",
        "mae"
      ],
      "metadata": {
        "colab": {
          "base_uri": "https://localhost:8080/"
        },
        "id": "p4zLdO764JCo",
        "outputId": "1bde8a4b-59a6-4504-fc38-fed3b60fcb16"
      },
      "execution_count": 91,
      "outputs": [
        {
          "output_type": "execute_result",
          "data": {
            "text/plain": [
              "<tf.Tensor: shape=(), dtype=float32, numpy=8.522027>"
            ]
          },
          "metadata": {},
          "execution_count": 91
        }
      ]
    },
    {
      "cell_type": "code",
      "source": [
        "# Using tf functions\n",
        "tf.reduce_mean(tf.abs(y_test-y_pread.squeeze()))"
      ],
      "metadata": {
        "colab": {
          "base_uri": "https://localhost:8080/"
        },
        "id": "vmv3IkrP4c9X",
        "outputId": "b55ab977-ff95-4c43-a7e4-483ca802b3e6"
      },
      "execution_count": 92,
      "outputs": [
        {
          "output_type": "execute_result",
          "data": {
            "text/plain": [
              "<tf.Tensor: shape=(), dtype=int32, numpy=8>"
            ]
          },
          "metadata": {},
          "execution_count": 92
        }
      ]
    },
    {
      "cell_type": "code",
      "source": [
        "def mae(y_test, y_pread):\n",
        "  return tf.metrics.mean_absolute_error(y_test, y_pread)\n",
        "\n",
        "def mae(y_test, y_pread):\n",
        "  return tf.metrics.mean_squared_error(y_test, y_pread)\n",
        "\n"
      ],
      "metadata": {
        "id": "qtKMU02D44AO"
      },
      "execution_count": 93,
      "outputs": []
    },
    {
      "cell_type": "code",
      "source": [],
      "metadata": {
        "id": "FMzfobd25eYG"
      },
      "execution_count": null,
      "outputs": []
    }
  ]
}